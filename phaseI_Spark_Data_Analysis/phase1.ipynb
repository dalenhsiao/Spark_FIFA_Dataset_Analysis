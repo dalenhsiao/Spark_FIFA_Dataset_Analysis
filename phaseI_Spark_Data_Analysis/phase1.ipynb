{
 "cells": [
  {
   "cell_type": "markdown",
   "metadata": {},
   "source": [
    "# Initiating Spark Session"
   ]
  },
  {
   "cell_type": "code",
   "execution_count": 1,
   "metadata": {},
   "outputs": [
    {
     "name": "stderr",
     "output_type": "stream",
     "text": [
      "Setting default log level to \"WARN\".\n",
      "To adjust logging level use sc.setLogLevel(newLevel). For SparkR, use setLogLevel(newLevel).\n",
      "23/11/11 15:52:36 WARN NativeCodeLoader: Unable to load native-hadoop library for your platform... using builtin-java classes where applicable\n",
      "/Users/tungyuhsiao/opt/anaconda3/envs/ipynb_env/lib/python3.11/site-packages/pyspark/sql/context.py:112: FutureWarning: Deprecated in 3.0.0. Use SparkSession.builder.getOrCreate() instead.\n",
      "  warnings.warn(\n",
      "23/11/11 15:52:37 WARN SparkSession: Using an existing Spark session; only runtime SQL configurations will take effect.\n"
     ]
    }
   ],
   "source": [
    "# Spark context access the hardware-level and software-leve configuration \n",
    "# For Spark 2.X\n",
    "# Spark Session provides a unified interface for interacting with \n",
    "# different Spark APIs and allows applications to run on a Spark cluster. \n",
    "\n",
    "import pyspark\n",
    "from pyspark import SparkContext, SQLContext \n",
    "from pyspark.sql import SparkSession\n",
    "from pyspark.sql.functions import *\n",
    "\n",
    "appName = \"FIFA_project\"\n",
    "master = \"local\"\n",
    "\n",
    "### Create Configuration object for Spark.\n",
    "# setAppName: set the name of the application \n",
    "# setMaster: set Spark cluster to use, here \"local\" indicating local machine\n",
    "# set(\"setting configuration\", \"attribute\"): The configuration could be \"spark.driver.host\" or \"spark.executor.memory\"\n",
    "# and the second entry indicating the corresponding configuration \n",
    "\n",
    "conf = pyspark.SparkConf()\\\n",
    "    .set('spark.driver.host','127.0.0.1')\\\n",
    "    .setAppName(appName)\\\n",
    "    .setMaster(master) \n",
    "\n",
    "# Create Spark Context with the new configurations rather than relying on the default one\n",
    "# SparkContext \n",
    "sc = SparkContext.getOrCreate(conf=conf) # getOrCreate get the current configuration or create a new one\n",
    "\n",
    "# Linking to SQL API\n",
    "# You need to create SQL Context to conduct some database operations like what we will see later.\n",
    "# SQLContext\n",
    "\n",
    "sqlContext = SQLContext(sc) # Connected to SQL API\n",
    "\n",
    "# Spark Session \n",
    "\n",
    "\n",
    "spark = SparkSession.builder.master(\"local[*]\").appName(appName).getOrCreate()"
   ]
  },
  {
   "cell_type": "markdown",
   "metadata": {},
   "source": [
    "# Ingesting Data into Spark DF"
   ]
  },
  {
   "cell_type": "code",
   "execution_count": 2,
   "metadata": {},
   "outputs": [
    {
     "name": "stderr",
     "output_type": "stream",
     "text": [
      "23/11/11 15:52:41 WARN SparkStringUtils: Truncated the string representation of a plan since it was too large. This behavior can be adjusted by setting 'spark.sql.debug.maxToStringFields'.\n"
     ]
    },
    {
     "name": "stdout",
     "output_type": "stream",
     "text": [
      "+---------+--------------------+-----------------+--------------------+----------------+-------+---------+---------+--------+---+----------+---------+---------+------------+-------------------+--------------------+------------+-------------+------------------+----------------+-----------+-------------------------+--------------+----------------+--------------+---------------+--------------------+--------------+---------+-----------+------------------------+-------------+----------------+---------+------------------+--------------------+--------------------+----+--------+-------+---------+---------+------+------------------+-------------------+--------------------------+-----------------------+-----------------+---------------+-----------+-----------------+------------------+------------------+---------------------+---------------------+----------------+------------------+----------------+----------------+-------------+-------------+--------------+----------------+--------------------+-----------------------+---------------------+----------------+-------------------+-------------------+---------------------------+-------------------------+------------------------+------------------+--------------------+-------------------+-----------------------+--------------------+-----------------+----+----+----+----+----+----+----+----+----+----+----+----+----+----+----+----+----+----+----+----+----+----+----+----+----+----+----+--------------------+--------------------+--------------------+--------------------+--------------------+----+\n",
      "|sofifa_id|          player_url|       short_name|           long_name|player_positions|overall|potential|value_eur|wage_eur|age|       dob|height_cm|weight_kg|club_team_id|          club_name|         league_name|league_level|club_position|club_jersey_number|club_loaned_from|club_joined|club_contract_valid_until|nationality_id|nationality_name|nation_team_id|nation_position|nation_jersey_number|preferred_foot|weak_foot|skill_moves|international_reputation|    work_rate|       body_type|real_face|release_clause_eur|         player_tags|       player_traits|pace|shooting|passing|dribbling|defending|physic|attacking_crossing|attacking_finishing|attacking_heading_accuracy|attacking_short_passing|attacking_volleys|skill_dribbling|skill_curve|skill_fk_accuracy|skill_long_passing|skill_ball_control|movement_acceleration|movement_sprint_speed|movement_agility|movement_reactions|movement_balance|power_shot_power|power_jumping|power_stamina|power_strength|power_long_shots|mentality_aggression|mentality_interceptions|mentality_positioning|mentality_vision|mentality_penalties|mentality_composure|defending_marking_awareness|defending_standing_tackle|defending_sliding_tackle|goalkeeping_diving|goalkeeping_handling|goalkeeping_kicking|goalkeeping_positioning|goalkeeping_reflexes|goalkeeping_speed|  ls|  st|  rs|  lw|  lf|  cf|  rf|  rw| lam| cam| ram|  lm| lcm|  cm| rcm|  rm| lwb| ldm| cdm| rdm| rwb|  lb| lcb|  cb| rcb|  rb|  gk|     player_face_url|       club_logo_url|       club_flag_url|     nation_logo_url|     nation_flag_url|year|\n",
      "+---------+--------------------+-----------------+--------------------+----------------+-------+---------+---------+--------+---+----------+---------+---------+------------+-------------------+--------------------+------------+-------------+------------------+----------------+-----------+-------------------------+--------------+----------------+--------------+---------------+--------------------+--------------+---------+-----------+------------------------+-------------+----------------+---------+------------------+--------------------+--------------------+----+--------+-------+---------+---------+------+------------------+-------------------+--------------------------+-----------------------+-----------------+---------------+-----------+-----------------+------------------+------------------+---------------------+---------------------+----------------+------------------+----------------+----------------+-------------+-------------+--------------+----------------+--------------------+-----------------------+---------------------+----------------+-------------------+-------------------+---------------------------+-------------------------+------------------------+------------------+--------------------+-------------------+-----------------------+--------------------+-----------------+----+----+----+----+----+----+----+----+----+----+----+----+----+----+----+----+----+----+----+----+----+----+----+----+----+----+----+--------------------+--------------------+--------------------+--------------------+--------------------+----+\n",
      "|   158023|https://sofifa.co...|         L. Messi|Lionel Andrés Mes...|              CF|     93|       95|  1.005E8|550000.0| 27|1987-06-24|      169|       67|       241.0|       FC Barcelona|Spain Primera Div...|           1|           CF|                10|            NULL| 2004-07-01|                     2018|            52|       Argentina|        1369.0|             CF|                  10|          Left|        3|          4|                       5|   Medium/Low|   Normal (170-)|      Yes|              NULL|#Speedster, #Drib...|Finesse Shot, Spe...|  93|      89|     86|       96|       27|    63|                84|                 94|                        71|                     89|               85|             96|         89|               90|                76|                96|                   96|                   90|              94|                94|              95|              80|           73|           77|            60|              88|                  48|                     22|                   92|              90|                 76|               NULL|                         25|                       21|                      20|                 6|                  11|                 15|                     14|                   8|             NULL|89+3|89+3|89+3|92+3|90+3|90+3|90+3|92+3|92+3|92+3|92+3|90+3|79+3|79+3|79+3|90+3|62+3|62+3|62+3|62+3|62+3|54+3|45+3|45+3|45+3|54+3|15+3|https://cdn.sofif...|https://cdn.sofif...|https://cdn.sofif...|https://cdn.sofif...|https://cdn.sofif...|2015|\n",
      "|    20801|https://sofifa.co...|Cristiano Ronaldo|Cristiano Ronaldo...|          LW, LM|     92|       92|    7.9E7|375000.0| 29|1985-02-05|      185|       80|       243.0|     Real Madrid CF|Spain Primera Div...|           1|           LW|                 7|            NULL| 2009-07-01|                     2018|            38|        Portugal|        1354.0|             LW|                   7|         Right|        4|          5|                       5|     High/Low|   Normal (185+)|      Yes|              NULL|#Speedster, #Drib...|Power Free-Kick, ...|  93|      93|     81|       91|       32|    79|                83|                 95|                        86|                     82|               87|             93|         88|               79|                72|                92|                   91|                   94|              93|                90|              63|              94|           94|           89|            79|              93|                  63|                     24|                   91|              81|                 85|               NULL|                         22|                       31|                      23|                 7|                  11|                 15|                     14|                  11|             NULL|91+1|91+1|91+1|89+3|91+1|91+1|91+1|89+3|89+3|89+3|89+3|87+3|77+3|77+3|77+3|87+3|63+3|63+3|63+3|63+3|63+3|57+3|52+3|52+3|52+3|57+3|16+3|https://cdn.sofif...|https://cdn.sofif...|https://cdn.sofif...|https://cdn.sofif...|https://cdn.sofif...|2015|\n",
      "|     9014|https://sofifa.co...|        A. Robben|        Arjen Robben|      RM, LM, RW|     90|       90|   5.45E7|275000.0| 30|1984-01-23|      180|       80|        21.0|  FC Bayern München|German 1. Bundesliga|           1|          SUB|                10|            NULL| 2009-08-28|                     2017|            34|     Netherlands|      105035.0|             RS|                  11|          Left|        2|          4|                       5|     High/Low|Normal (170-185)|      Yes|              NULL|#Speedster, #Drib...|Diver, Injury Pro...|  93|      86|     83|       92|       32|    64|                80|                 85|                        50|                     86|               86|             93|         85|               83|                76|                90|                   93|                   93|              93|                89|              91|              86|           61|           78|            65|              90|                  47|                     39|                   89|              84|                 80|               NULL|                         29|                       26|                      26|                10|                   8|                 11|                      5|                  15|             NULL|84+3|84+3|84+3|88+2|87+3|87+3|87+3|88+2|88+2|88+2|88+2|87+3|78+3|78+3|78+3|87+3|64+3|64+3|64+3|64+3|64+3|55+3|46+3|46+3|46+3|55+3|14+3|https://cdn.sofif...|https://cdn.sofif...|https://cdn.sofif...|https://cdn.sofif...|https://cdn.sofif...|2015|\n",
      "|    41236|https://sofifa.co...|   Z. Ibrahimović|  Zlatan Ibrahimović|              ST|     90|       90|   5.25E7|275000.0| 32|1981-10-03|      195|       95|        73.0|Paris Saint-Germain|      French Ligue 1|           1|           ST|                10|            NULL| 2012-07-01|                     2016|            46|          Sweden|        1363.0|             ST|                  10|         Right|        4|          4|                       5|   Medium/Low|   Normal (185+)|      Yes|              NULL|#Poacher, #Aerial...|Power Free-Kick, ...|  76|      91|     81|       86|       34|    86|                76|                 91|                        76|                     84|               92|             88|         80|               80|                76|                90|                   74|                   77|              86|                85|              41|              93|           72|           78|            93|              88|                  84|                     20|                   86|              83|                 91|               NULL|                         25|                       41|                      27|                13|                  15|                 10|                      9|                  12|             NULL|87+3|87+3|87+3|84+3|86+3|86+3|86+3|84+3|86+3|86+3|86+3|83+3|76+3|76+3|76+3|83+3|61+3|65+3|65+3|65+3|61+3|56+3|55+3|55+3|55+3|56+3|17+3|https://cdn.sofif...|https://cdn.sofif...|https://cdn.sofif...|https://cdn.sofif...|https://cdn.sofif...|2015|\n",
      "|   167495|https://sofifa.co...|         M. Neuer|  Manuel Peter Neuer|              GK|     90|       90|   6.35E7|300000.0| 28|1986-03-27|      193|       92|        21.0|  FC Bayern München|German 1. Bundesliga|           1|           GK|                 1|            NULL| 2011-07-01|                     2019|            21|         Germany|        1337.0|             GK|                   1|         Right|        4|          1|                       5|Medium/Medium|   Normal (185+)|      Yes|              NULL|                NULL|GK Up for Corners...|NULL|    NULL|   NULL|     NULL|     NULL|  NULL|                25|                 25|                        25|                     42|               25|             25|         25|               25|                41|                31|                   58|                   61|              43|                89|              35|              42|           78|           44|            83|              25|                  29|                     30|                   25|              20|                 37|               NULL|                         25|                       25|                      25|                87|                  85|                 92|                     90|                  86|               60|38+3|38+3|38+3|36+3|37+3|37+3|37+3|36+3|36+3|36+3|36+3|38+3|36+3|36+3|36+3|38+3|36+3|40+3|40+3|40+3|36+3|36+3|38+3|38+3|38+3|36+3|87+3|https://cdn.sofif...|https://cdn.sofif...|https://cdn.sofif...|https://cdn.sofif...|https://cdn.sofif...|2015|\n",
      "|       41|https://sofifa.co...|          Iniesta|Andrés Iniesta Luján|          CM, LW|     89|       89|    3.6E7|250000.0| 30|1984-05-11|      170|       65|       241.0|       FC Barcelona|Spain Primera Div...|           1|          LCM|                 8|            NULL| 2002-07-01|                     2018|            45|           Spain|        1362.0|             LW|                   6|         Right|        4|          4|                       5|  High/Medium|   Normal (170-)|      Yes|              NULL|#Dribbler, #Playm...|Finesse Shot, Pla...|  75|      72|     89|       91|       59|    63|                85|                 73|                        54|                     93|               74|             92|         80|               70|                89|                94|                   76|                   75|              83|                90|              86|              65|           54|           78|            59|              75|                  58|                     68|                   87|              93|                 71|               NULL|                         57|                       57|                      56|                 6|                  13|                  6|                     13|                   7|             NULL|77+3|77+3|77+3|87+2|82+3|82+3|82+3|87+2|88+1|88+1|88+1|88+1|86+3|86+3|86+3|88+1|76+3|77+3|77+3|77+3|76+3|70+3|63+3|63+3|63+3|70+3|14+3|https://cdn.sofif...|https://cdn.sofif...|https://cdn.sofif...|https://cdn.sofif...|https://cdn.sofif...|2015|\n",
      "|   176580|https://sofifa.co...|        L. Suárez|Luis Alberto Suár...|          ST, CF|     89|       91|   4.95E7|300000.0| 27|1987-01-24|      181|       81|       241.0|       FC Barcelona|Spain Primera Div...|           1|          RES|                 9|            NULL| 2014-07-11|                     2019|            60|         Uruguay|          NULL|           NULL|                NULL|         Right|        4|          4|                       5|  High/Medium|Normal (170-185)|      Yes|              NULL|#Acrobat, #Clinic...|Diver, Beat Offsi...|  83|      87|     79|       88|       42|    79|                77|                 91|                        75|                     82|               85|             90|         86|               84|                64|                89|                   88|                   79|              86|                91|              60|              84|           69|           86|            76|              82|                  78|                     41|                   88|              84|                 85|               NULL|                         30|                       45|                      38|                27|                  25|                 31|                     33|                  37|             NULL|86+3|86+3|86+3|85+3|86+3|86+3|86+3|85+3|87+3|87+3|87+3|84+3|77+3|77+3|77+3|84+3|67+3|67+3|67+3|67+3|67+3|62+3|57+3|57+3|57+3|62+3|34+3|https://cdn.sofif...|https://cdn.sofif...|https://cdn.sofif...|                NULL|https://cdn.sofif...|2015|\n",
      "|     7826|https://sofifa.co...|    R. van Persie|    Robin van Persie|              ST|     88|       88|   4.05E7|230000.0| 30|1983-08-06|      187|       71|        11.0|  Manchester United|English Premier L...|           1|           RS|                20|            NULL| 2012-08-17|                     2016|            34|     Netherlands|      105035.0|             LS|                   9|          Left|        3|          4|                       5|   Medium/Low|   Normal (185+)|      Yes|              NULL|#Distance Shooter...|Injury Prone, Fla...|  74|      90|     82|       83|       33|    68|                81|                 91|                        73|                     85|               92|             84|         86|               81|                75|                87|                   73|                   74|              80|                88|              59|              90|           59|           72|            72|              86|                  55|                     34|                   90|              82|                 86|               NULL|                         23|                       32|                      21|                 9|                  10|                  5|                      7|                   8|             NULL|85+3|85+3|85+3|84+3|86+2|86+2|86+2|84+3|85+3|85+3|85+3|82+3|76+3|76+3|76+3|82+3|60+3|63+3|63+3|63+3|60+3|54+3|48+3|48+3|48+3|54+3|13+3|https://cdn.sofif...|https://cdn.sofif...|https://cdn.sofif...|https://cdn.sofif...|https://cdn.sofif...|2015|\n",
      "|   121944|https://sofifa.co...|B. Schweinsteiger|Bastian Schweinst...|         CM, CDM|     88|       88|    3.9E7|200000.0| 29|1984-08-01|      183|       79|        21.0|  FC Bayern München|German 1. Bundesliga|           1|          SUB|                31|            NULL| 2002-07-01|                     2016|            21|         Germany|        1337.0|            SUB|                   7|         Right|        3|          3|                       4|    High/High|Normal (170-185)|      Yes|              NULL|#Playmaker, #Engi...|Injury Prone, Lea...|  61|      81|     85|       82|       78|    80|                81|                 76|                        79|                     88|               83|             81|         82|               78|                87|                86|                   58|                   64|              74|                90|              75|              86|           82|           86|            77|              86|                  80|                     86|                   82|              86|                 81|               NULL|                         69|                       80|                      77|                14|                  14|                 13|                     13|                  11|             NULL|80+2|80+2|80+2|80+2|82+2|82+2|82+2|80+2|84+2|84+2|84+2|82+2|86+2|86+2|86+2|82+2|81+2|84+2|84+2|84+2|81+2|81+2|79+2|79+2|79+2|81+2|18+2|https://cdn.sofif...|https://cdn.sofif...|https://cdn.sofif...|https://cdn.sofif...|https://cdn.sofif...|2015|\n",
      "|   156616|https://sofifa.co...|        F. Ribéry| Franck Bilal Ribéry|              LM|     88|       88|    3.3E7|200000.0| 31|1983-04-07|      170|       72|        21.0|  FC Bayern München|German 1. Bundesliga|           1|          SUB|                 7|            NULL| 2007-07-01|                     2017|            18|          France|          NULL|           NULL|                NULL|         Right|        4|          5|                       4|  High/Medium|   Normal (170-)|      Yes|              NULL| #Dribbler, #Acrobat|Injury Prone, Fla...|  89|      78|     85|       92|       29|    62|                83|                 79|                        41|                     89|               81|             92|         84|               81|                74|                91|                   91|                   87|              92|                89|              92|              76|           51|           72|            62|              73|                  52|                     36|                   83|              88|                 80|               NULL|                         25|                       25|                      26|                15|                   6|                  9|                      7|                  10|             NULL|79+2|79+2|79+2|87+1|82+2|82+2|82+2|87+1|87+1|87+1|87+1|86+2|77+2|77+2|77+2|86+2|63+2|63+2|63+2|63+2|63+2|53+2|44+2|44+2|44+2|53+2|14+2|https://cdn.sofif...|https://cdn.sofif...|https://cdn.sofif...|                NULL|https://cdn.sofif...|2015|\n",
      "|   167397|https://sofifa.co...|           Falcao|Radamel Falcao Ga...|              ST|     88|       88|   4.65E7|250000.0| 28|1986-02-10|      177|       72|        11.0|  Manchester United|English Premier L...|           1|          SUB|                 9|       AS Monaco|       NULL|                     2015|            56|        Colombia|      111109.0|             ST|                   9|         Right|        4|          4|                       4|  High/Medium|Normal (170-185)|      Yes|              NULL|      #Aerial Threat|Finesse Shot, Pow...|  77|      86|     64|       81|       40|    73|                55|                 91|                        94|                     69|               90|             78|         83|               71|                53|                83|                   80|                   75|              85|                89|              75|              79|           93|           71|            74|              77|                  70|                     41|                   92|              68|                 87|               NULL|                         25|                       42|                      25|                10|                  13|                  6|                      9|                   5|             NULL|86+2|86+2|86+2|76+2|83+2|83+2|83+2|76+2|79+2|79+2|79+2|73+2|69+2|69+2|69+2|73+2|58+2|60+2|60+2|60+2|58+2|56+2|55+2|55+2|55+2|56+2|14+2|https://cdn.sofif...|https://cdn.sofif...|https://cdn.sofif...|https://cdn.sofif...|https://cdn.sofif...|2015|\n",
      "|   183277|https://sofifa.co...|        E. Hazard|         Eden Hazard|          LM, RM|     88|       90|   4.05E7|210000.0| 23|1991-01-07|      173|       74|         5.0|            Chelsea|English Premier L...|           1|           LM|                10|            NULL| 2012-07-01|                     2017|             7|         Belgium|        1325.0|             LM|                  10|         Right|        4|          4|                       4|  High/Medium|Normal (170-185)|      Yes|              NULL|#Speedster, #Drib...|Injury Free, Self...|  90|      82|     84|       91|       32|    64|                78|                 83|                        57|                     87|               79|             92|         82|               79|                82|                89|                   93|                   87|              92|                85|              90|              79|           59|           74|            63|              82|                  54|                     41|                   84|              86|                 86|               NULL|                         25|                       27|                      22|                11|                  12|                  6|                      8|                   8|             NULL|81+2|81+2|81+2|86+2|84+2|84+2|84+2|86+2|87+2|87+2|87+2|86+2|78+2|78+2|78+2|86+2|62+2|64+2|64+2|64+2|62+2|54+2|46+2|46+2|46+2|54+2|14+2|https://cdn.sofif...|https://cdn.sofif...|https://cdn.sofif...|https://cdn.sofif...|https://cdn.sofif...|2015|\n",
      "|   121939|https://sofifa.co...|          P. Lahm|        Philipp Lahm|     CDM, RB, CM|     87|       87|   2.45E7|190000.0| 30|1983-11-11|      170|       66|        21.0|  FC Bayern München|German 1. Bundesliga|           1|          RCM|                21|            NULL| 2002-11-01|                     2018|            21|         Germany|          NULL|           NULL|                NULL|         Right|        3|          3|                       4|    High/High|   Normal (170-)|      Yes|              NULL|#Engine, #Tacklin...|Injury Free, Dive...|  76|      56|     84|       83|       87|    67|                84|                 47|                        64|                     88|               66|             80|         77|               59|                84|                85|                   77|                   76|              83|                92|              92|              57|           72|           88|            59|              65|                  58|                     93|                   69|              84|                 72|               NULL|                         87|                       88|                      95|                11|                  12|                  5|                     14|                   5|             NULL|67+2|67+2|67+2|80+2|72+2|72+2|72+2|80+2|79+2|79+2|79+2|83+2|84+2|84+2|84+2|83+2|88-1|85+2|85+2|85+2|88-1|85+2|81+2|81+2|81+2|85+2|15+2|https://cdn.sofif...|https://cdn.sofif...|https://cdn.sofif...|                NULL|https://cdn.sofif...|2015|\n",
      "|   155862|https://sofifa.co...|     Sergio Ramos| Sergio Ramos García|              CB|     87|       87|   3.15E7|220000.0| 28|1986-03-30|      183|       75|       243.0|     Real Madrid CF|Spain Primera Div...|           1|          LCB|                 4|            NULL| 2005-08-01|                     2017|            45|           Spain|        1362.0|            LCB|                  15|         Right|        3|          3|                       4|  High/Medium|Normal (170-185)|      Yes|              NULL|#Tackling, #Tacti...|Leadership, Power...|  79|      61|     71|       66|       87|    82|                74|                 59|                        86|                     76|               55|             52|         73|               64|                70|                83|                   79|                   79|              84|                82|              60|              71|           91|           82|            80|              55|                  83|                     87|                   52|              63|                 68|               NULL|                         85|                       89|                      90|                11|                   8|                  9|                      7|                  11|             NULL|68+2|68+2|68+2|70+2|67+2|67+2|67+2|70+2|68+2|68+2|68+2|71+2|72+2|72+2|72+2|71+2|81+2|80+2|80+2|80+2|81+2|84+2|85+2|85+2|85+2|84+2|14+2|https://cdn.sofif...|https://cdn.sofif...|https://cdn.sofif...|https://cdn.sofif...|https://cdn.sofif...|2015|\n",
      "|   164240|https://sofifa.co...|     Thiago Silva|Thiago Emiliano d...|              CB|     87|       87|    2.9E7|190000.0| 29|1984-09-22|      183|       79|        73.0|Paris Saint-Germain|      French Ligue 1|           1|          LCB|                 2|            NULL| 2012-07-01|                     2018|            54|          Brazil|        1370.0|            LCB|                   3|         Right|        3|          3|                       4|  Medium/High|Normal (170-185)|      Yes|              NULL|#Tackling, #Tacti...|Leadership, Long ...|  78|      57|     72|       72|       90|    80|                60|                 38|                        81|                     75|               63|             68|         61|               73|                81|                78|                   75|                   80|              75|                83|              68|              78|           90|           80|            81|              71|                  76|                     91|                   59|              74|                 71|               NULL|                         90|                       91|                      89|                 9|                  12|                  5|                      9|                  10|             NULL|67+2|67+2|67+2|70+2|69+2|69+2|69+2|70+2|71+2|71+2|71+2|73+2|77+2|77+2|77+2|73+2|81+2|82+2|82+2|82+2|81+2|83+2|85+2|85+2|85+2|83+2|14+2|https://cdn.sofif...|https://cdn.sofif...|https://cdn.sofif...|https://cdn.sofif...|https://cdn.sofif...|2015|\n",
      "|   168542|https://sofifa.co...|      David Silva|David Josué Jimén...|         LM, CAM|     87|       87|   3.65E7|220000.0| 28|1986-01-08|      170|       67|        10.0|    Manchester City|English Premier L...|           1|          CAM|                21|            NULL| 2010-07-14|                     2019|            45|           Spain|        1362.0|            CAM|                  21|          Left|        2|          4|                       4|     High/Low|Normal (170-185)|      Yes|              NULL|#Dribbler, #Playm...|Avoids Using Weak...|  76|      77|     86|       89|       33|    57|                82|                 76|                        58|                     89|               80|             87|         83|               77|                85|                91|                   83|                   71|              93|                85|              88|              76|           66|           68|            53|              80|                  51|                     41|                   84|              90|                 77|               NULL|                         23|                       30|                      29|                13|                   9|                 13|                      9|                  13|             NULL|78+2|78+2|78+2|85+2|82+2|82+2|82+2|85+2|86+1|86+1|86+1|85+2|79+2|79+2|79+2|85+2|63+2|64+2|64+2|64+2|63+2|54+2|47+2|47+2|47+2|54+2|16+2|https://cdn.sofif...|https://cdn.sofif...|https://cdn.sofif...|https://cdn.sofif...|https://cdn.sofif...|2015|\n",
      "|   173731|https://sofifa.co...|          G. Bale|   Gareth Frank Bale|          RM, RW|     87|       91|    3.9E7|200000.0| 24|1989-07-16|      183|       74|       243.0|     Real Madrid CF|Spain Primera Div...|           1|           RW|                11|            NULL| 2013-09-02|                     2019|            50|           Wales|        1367.0|             RM|                  11|          Left|        3|          4|                       4|  High/Medium|  Lean (170-185)|      Yes|              NULL|#Speedster, #Dist...|Avoids Using Weak...|  94|      83|     83|       84|       63|    81|                84|                 81|                        74|                     84|               76|             87|         87|               85|                80|                85|                   93|                   95|              77|                84|              65|              87|           67|           90|            79|              88|                  77|                     59|                   83|              79|                 76|               NULL|                         60|                       65|                      62|                15|                  15|                 11|                      5|                   6|             NULL|83+2|83+2|83+2|85+2|85+2|85+2|85+2|85+2|84+2|84+2|84+2|85+2|81+2|81+2|81+2|85+2|76+2|75+2|75+2|75+2|76+2|74+2|70+2|70+2|70+2|74+2|15+2|https://cdn.sofif...|https://cdn.sofif...|https://cdn.sofif...|https://cdn.sofif...|https://cdn.sofif...|2015|\n",
      "|   177003|https://sofifa.co...|        L. Modrić|         Luka Modrić|         CM, CDM|     87|       87|   3.65E7|220000.0| 28|1985-09-09|      174|       65|       243.0|     Real Madrid CF|Spain Primera Div...|           1|          RCM|                19|            NULL| 2012-08-01|                     2018|            10|         Croatia|          NULL|           NULL|                NULL|         Right|        4|          4|                       4|  High/Medium|  Lean (170-185)|      Yes|              NULL|#Dribbler, #Playm...|Long Passer (AI),...|  76|      74|     85|       89|       71|    70|                78|                 71|                        55|                     88|               75|             86|         82|               79|                86|                92|                   78|                   74|              93|                88|              94|              72|           67|           86|            66|              82|                  62|                     73|                   79|              89|                 80|               NULL|                         69|                       75|                      73|                13|                   9|                  7|                     14|                   9|             NULL|76+2|76+2|76+2|84+2|80+2|80+2|80+2|84+2|85+2|85+2|85+2|85+2|85+2|85+2|85+2|85+2|81+2|80+2|80+2|80+2|81+2|76+2|72+2|72+2|72+2|76+2|16+2|https://cdn.sofif...|https://cdn.sofif...|https://cdn.sofif...|                NULL|https://cdn.sofif...|2015|\n",
      "|   188545|https://sofifa.co...|   R. Lewandowski|  Robert Lewandowski|          ST, CF|     87|       89|    4.4E7|210000.0| 25|1988-08-21|      184|       78|        21.0|  FC Bayern München|German 1. Bundesliga|           1|           LS|                 9|            NULL| 2014-07-01|                     2019|            37|          Poland|        1353.0|             LS|                   9|         Right|        4|          4|                       4|  High/Medium|Normal (170-185)|      Yes|              NULL|  #Clinical Finisher|Injury Free, Chip...|  80|      84|     74|       85|       39|    78|                62|                 87|                        83|                     83|               82|             84|         77|               68|                65|                87|                   79|                   81|              80|                88|              81|              84|           83|           75|            79|              80|                  80|                     39|                   87|              78|                 77|               NULL|                         25|                       42|                      25|                15|                   6|                 12|                      8|                  10|             NULL|85+2|85+2|85+2|80+2|84+2|84+2|84+2|80+2|84+2|84+2|84+2|79+2|75+2|75+2|75+2|79+2|61+2|65+2|65+2|65+2|61+2|58+2|56+2|56+2|56+2|58+2|15+2|https://cdn.sofif...|https://cdn.sofif...|https://cdn.sofif...|https://cdn.sofif...|https://cdn.sofif...|2015|\n",
      "|    10535|https://sofifa.co...|             Xavi|Xavier Hernández ...|              CM|     86|       86|   1.55E7|160000.0| 34|1980-01-25|      170|       68|       241.0|       FC Barcelona|Spain Primera Div...|           1|          SUB|                 6|            NULL| 1998-07-01|                     2021|            45|           Spain|          NULL|           NULL|                NULL|         Right|        3|          3|                       4|Medium/Medium|   Normal (170-)|      Yes|              NULL|#Playmaker, #FK S...|Playmaker (AI), O...|  66|      72|     91|       85|       60|    58|                85|                 74|                        51|                     95|               66|             80|         85|               87|                90|                93|                   67|                   65|              79|                90|              90|              67|           53|           60|            60|              72|                  53|                     71|                   83|              94|                 75|               NULL|                         55|                       61|                      59|                 5|                  15|                 12|                      5|                   9|             NULL|74+2|74+2|74+2|83+2|79+2|79+2|79+2|83+2|  86|  86|  86|84+2|84+2|84+2|84+2|84+2|75+2|77+2|77+2|77+2|75+2|69+2|63+2|63+2|63+2|69+2|13+2|https://cdn.sofif...|https://cdn.sofif...|https://cdn.sofif...|                NULL|https://cdn.sofif...|2015|\n",
      "+---------+--------------------+-----------------+--------------------+----------------+-------+---------+---------+--------+---+----------+---------+---------+------------+-------------------+--------------------+------------+-------------+------------------+----------------+-----------+-------------------------+--------------+----------------+--------------+---------------+--------------------+--------------+---------+-----------+------------------------+-------------+----------------+---------+------------------+--------------------+--------------------+----+--------+-------+---------+---------+------+------------------+-------------------+--------------------------+-----------------------+-----------------+---------------+-----------+-----------------+------------------+------------------+---------------------+---------------------+----------------+------------------+----------------+----------------+-------------+-------------+--------------+----------------+--------------------+-----------------------+---------------------+----------------+-------------------+-------------------+---------------------------+-------------------------+------------------------+------------------+--------------------+-------------------+-----------------------+--------------------+-----------------+----+----+----+----+----+----+----+----+----+----+----+----+----+----+----+----+----+----+----+----+----+----+----+----+----+----+----+--------------------+--------------------+--------------------+--------------------+--------------------+----+\n",
      "only showing top 20 rows\n",
      "\n"
     ]
    }
   ],
   "source": [
    "# Store data into one spark df\n",
    "from pyspark.sql.functions import lit\n",
    "from functools import reduce\n",
    "\n",
    "file_paths = [\"./fifa_dataset/players_%d.csv\" % n for n in range(15,23)]\n",
    "\n",
    "# Read each CSV file and add a new column\n",
    "dataframes = [spark.read.csv(file_path, header=True, inferSchema=True) for file_path in file_paths]\n",
    "\n",
    "# Add a new column to each DataFrame\n",
    "year = [str(n) for n in range(2015,2023)]\n",
    "dataframes_with_column = [dataframes[i].withColumn(\"year\", lit(year[i])) for i in range(len(dataframes))]\n",
    "\n",
    "# Union all DataFrames\n",
    "fifa = reduce(lambda df1, df2: df1.union(df2), dataframes_with_column)\n",
    "\n",
    "# Show the final DataFrame\n",
    "fifa.show()\n",
    "\n"
   ]
  },
  {
   "cell_type": "code",
   "execution_count": 3,
   "metadata": {},
   "outputs": [
    {
     "name": "stderr",
     "output_type": "stream",
     "text": [
      "                                                                                \r"
     ]
    },
    {
     "name": "stdout",
     "output_type": "stream",
     "text": [
      "True\n",
      "+---------+--------------------+-----------------+--------------------+----------------+-------+---------+---------+--------+---+----------+---------+---------+------------+-------------------+--------------------+------------+-------------+------------------+----------------+-----------+-------------------------+--------------+----------------+--------------+---------------+--------------------+--------------+---------+-----------+------------------------+-------------+----------------+---------+------------------+--------------------+--------------------+----+--------+-------+---------+---------+------+------------------+-------------------+--------------------------+-----------------------+-----------------+---------------+-----------+-----------------+------------------+------------------+---------------------+---------------------+----------------+------------------+----------------+----------------+-------------+-------------+--------------+----------------+--------------------+-----------------------+---------------------+----------------+-------------------+-------------------+---------------------------+-------------------------+------------------------+------------------+--------------------+-------------------+-----------------------+--------------------+-----------------+----+----+----+----+----+----+----+----+----+----+----+----+----+----+----+----+----+----+----+----+----+----+----+----+----+----+----+--------------------+--------------------+--------------------+--------------------+--------------------+----+---+\n",
      "|sofifa_id|          player_url|       short_name|           long_name|player_positions|overall|potential|value_eur|wage_eur|age|       dob|height_cm|weight_kg|club_team_id|          club_name|         league_name|league_level|club_position|club_jersey_number|club_loaned_from|club_joined|club_contract_valid_until|nationality_id|nationality_name|nation_team_id|nation_position|nation_jersey_number|preferred_foot|weak_foot|skill_moves|international_reputation|    work_rate|       body_type|real_face|release_clause_eur|         player_tags|       player_traits|pace|shooting|passing|dribbling|defending|physic|attacking_crossing|attacking_finishing|attacking_heading_accuracy|attacking_short_passing|attacking_volleys|skill_dribbling|skill_curve|skill_fk_accuracy|skill_long_passing|skill_ball_control|movement_acceleration|movement_sprint_speed|movement_agility|movement_reactions|movement_balance|power_shot_power|power_jumping|power_stamina|power_strength|power_long_shots|mentality_aggression|mentality_interceptions|mentality_positioning|mentality_vision|mentality_penalties|mentality_composure|defending_marking_awareness|defending_standing_tackle|defending_sliding_tackle|goalkeeping_diving|goalkeeping_handling|goalkeeping_kicking|goalkeeping_positioning|goalkeeping_reflexes|goalkeeping_speed|  ls|  st|  rs|  lw|  lf|  cf|  rf|  rw| lam| cam| ram|  lm| lcm|  cm| rcm|  rm| lwb| ldm| cdm| rdm| rwb|  lb| lcb|  cb| rcb|  rb|  gk|     player_face_url|       club_logo_url|       club_flag_url|     nation_logo_url|     nation_flag_url|year| id|\n",
      "+---------+--------------------+-----------------+--------------------+----------------+-------+---------+---------+--------+---+----------+---------+---------+------------+-------------------+--------------------+------------+-------------+------------------+----------------+-----------+-------------------------+--------------+----------------+--------------+---------------+--------------------+--------------+---------+-----------+------------------------+-------------+----------------+---------+------------------+--------------------+--------------------+----+--------+-------+---------+---------+------+------------------+-------------------+--------------------------+-----------------------+-----------------+---------------+-----------+-----------------+------------------+------------------+---------------------+---------------------+----------------+------------------+----------------+----------------+-------------+-------------+--------------+----------------+--------------------+-----------------------+---------------------+----------------+-------------------+-------------------+---------------------------+-------------------------+------------------------+------------------+--------------------+-------------------+-----------------------+--------------------+-----------------+----+----+----+----+----+----+----+----+----+----+----+----+----+----+----+----+----+----+----+----+----+----+----+----+----+----+----+--------------------+--------------------+--------------------+--------------------+--------------------+----+---+\n",
      "|   158023|https://sofifa.co...|         L. Messi|Lionel Andrés Mes...|              CF|     93|       95|  1.005E8|550000.0| 27|1987-06-24|      169|       67|       241.0|       FC Barcelona|Spain Primera Div...|           1|           CF|                10|            NULL| 2004-07-01|                     2018|            52|       Argentina|        1369.0|             CF|                  10|          Left|        3|          4|                       5|   Medium/Low|   Normal (170-)|      Yes|              NULL|#Speedster, #Drib...|Finesse Shot, Spe...|  93|      89|     86|       96|       27|    63|                84|                 94|                        71|                     89|               85|             96|         89|               90|                76|                96|                   96|                   90|              94|                94|              95|              80|           73|           77|            60|              88|                  48|                     22|                   92|              90|                 76|               NULL|                         25|                       21|                      20|                 6|                  11|                 15|                     14|                   8|             NULL|89+3|89+3|89+3|92+3|90+3|90+3|90+3|92+3|92+3|92+3|92+3|90+3|79+3|79+3|79+3|90+3|62+3|62+3|62+3|62+3|62+3|54+3|45+3|45+3|45+3|54+3|15+3|https://cdn.sofif...|https://cdn.sofif...|https://cdn.sofif...|https://cdn.sofif...|https://cdn.sofif...|2015|  0|\n",
      "|    20801|https://sofifa.co...|Cristiano Ronaldo|Cristiano Ronaldo...|          LW, LM|     92|       92|    7.9E7|375000.0| 29|1985-02-05|      185|       80|       243.0|     Real Madrid CF|Spain Primera Div...|           1|           LW|                 7|            NULL| 2009-07-01|                     2018|            38|        Portugal|        1354.0|             LW|                   7|         Right|        4|          5|                       5|     High/Low|   Normal (185+)|      Yes|              NULL|#Speedster, #Drib...|Power Free-Kick, ...|  93|      93|     81|       91|       32|    79|                83|                 95|                        86|                     82|               87|             93|         88|               79|                72|                92|                   91|                   94|              93|                90|              63|              94|           94|           89|            79|              93|                  63|                     24|                   91|              81|                 85|               NULL|                         22|                       31|                      23|                 7|                  11|                 15|                     14|                  11|             NULL|91+1|91+1|91+1|89+3|91+1|91+1|91+1|89+3|89+3|89+3|89+3|87+3|77+3|77+3|77+3|87+3|63+3|63+3|63+3|63+3|63+3|57+3|52+3|52+3|52+3|57+3|16+3|https://cdn.sofif...|https://cdn.sofif...|https://cdn.sofif...|https://cdn.sofif...|https://cdn.sofif...|2015|  1|\n",
      "|     9014|https://sofifa.co...|        A. Robben|        Arjen Robben|      RM, LM, RW|     90|       90|   5.45E7|275000.0| 30|1984-01-23|      180|       80|        21.0|  FC Bayern München|German 1. Bundesliga|           1|          SUB|                10|            NULL| 2009-08-28|                     2017|            34|     Netherlands|      105035.0|             RS|                  11|          Left|        2|          4|                       5|     High/Low|Normal (170-185)|      Yes|              NULL|#Speedster, #Drib...|Diver, Injury Pro...|  93|      86|     83|       92|       32|    64|                80|                 85|                        50|                     86|               86|             93|         85|               83|                76|                90|                   93|                   93|              93|                89|              91|              86|           61|           78|            65|              90|                  47|                     39|                   89|              84|                 80|               NULL|                         29|                       26|                      26|                10|                   8|                 11|                      5|                  15|             NULL|84+3|84+3|84+3|88+2|87+3|87+3|87+3|88+2|88+2|88+2|88+2|87+3|78+3|78+3|78+3|87+3|64+3|64+3|64+3|64+3|64+3|55+3|46+3|46+3|46+3|55+3|14+3|https://cdn.sofif...|https://cdn.sofif...|https://cdn.sofif...|https://cdn.sofif...|https://cdn.sofif...|2015|  2|\n",
      "|    41236|https://sofifa.co...|   Z. Ibrahimović|  Zlatan Ibrahimović|              ST|     90|       90|   5.25E7|275000.0| 32|1981-10-03|      195|       95|        73.0|Paris Saint-Germain|      French Ligue 1|           1|           ST|                10|            NULL| 2012-07-01|                     2016|            46|          Sweden|        1363.0|             ST|                  10|         Right|        4|          4|                       5|   Medium/Low|   Normal (185+)|      Yes|              NULL|#Poacher, #Aerial...|Power Free-Kick, ...|  76|      91|     81|       86|       34|    86|                76|                 91|                        76|                     84|               92|             88|         80|               80|                76|                90|                   74|                   77|              86|                85|              41|              93|           72|           78|            93|              88|                  84|                     20|                   86|              83|                 91|               NULL|                         25|                       41|                      27|                13|                  15|                 10|                      9|                  12|             NULL|87+3|87+3|87+3|84+3|86+3|86+3|86+3|84+3|86+3|86+3|86+3|83+3|76+3|76+3|76+3|83+3|61+3|65+3|65+3|65+3|61+3|56+3|55+3|55+3|55+3|56+3|17+3|https://cdn.sofif...|https://cdn.sofif...|https://cdn.sofif...|https://cdn.sofif...|https://cdn.sofif...|2015|  3|\n",
      "|   167495|https://sofifa.co...|         M. Neuer|  Manuel Peter Neuer|              GK|     90|       90|   6.35E7|300000.0| 28|1986-03-27|      193|       92|        21.0|  FC Bayern München|German 1. Bundesliga|           1|           GK|                 1|            NULL| 2011-07-01|                     2019|            21|         Germany|        1337.0|             GK|                   1|         Right|        4|          1|                       5|Medium/Medium|   Normal (185+)|      Yes|              NULL|                NULL|GK Up for Corners...|NULL|    NULL|   NULL|     NULL|     NULL|  NULL|                25|                 25|                        25|                     42|               25|             25|         25|               25|                41|                31|                   58|                   61|              43|                89|              35|              42|           78|           44|            83|              25|                  29|                     30|                   25|              20|                 37|               NULL|                         25|                       25|                      25|                87|                  85|                 92|                     90|                  86|               60|38+3|38+3|38+3|36+3|37+3|37+3|37+3|36+3|36+3|36+3|36+3|38+3|36+3|36+3|36+3|38+3|36+3|40+3|40+3|40+3|36+3|36+3|38+3|38+3|38+3|36+3|87+3|https://cdn.sofif...|https://cdn.sofif...|https://cdn.sofif...|https://cdn.sofif...|https://cdn.sofif...|2015|  4|\n",
      "|       41|https://sofifa.co...|          Iniesta|Andrés Iniesta Luján|          CM, LW|     89|       89|    3.6E7|250000.0| 30|1984-05-11|      170|       65|       241.0|       FC Barcelona|Spain Primera Div...|           1|          LCM|                 8|            NULL| 2002-07-01|                     2018|            45|           Spain|        1362.0|             LW|                   6|         Right|        4|          4|                       5|  High/Medium|   Normal (170-)|      Yes|              NULL|#Dribbler, #Playm...|Finesse Shot, Pla...|  75|      72|     89|       91|       59|    63|                85|                 73|                        54|                     93|               74|             92|         80|               70|                89|                94|                   76|                   75|              83|                90|              86|              65|           54|           78|            59|              75|                  58|                     68|                   87|              93|                 71|               NULL|                         57|                       57|                      56|                 6|                  13|                  6|                     13|                   7|             NULL|77+3|77+3|77+3|87+2|82+3|82+3|82+3|87+2|88+1|88+1|88+1|88+1|86+3|86+3|86+3|88+1|76+3|77+3|77+3|77+3|76+3|70+3|63+3|63+3|63+3|70+3|14+3|https://cdn.sofif...|https://cdn.sofif...|https://cdn.sofif...|https://cdn.sofif...|https://cdn.sofif...|2015|  5|\n",
      "|   176580|https://sofifa.co...|        L. Suárez|Luis Alberto Suár...|          ST, CF|     89|       91|   4.95E7|300000.0| 27|1987-01-24|      181|       81|       241.0|       FC Barcelona|Spain Primera Div...|           1|          RES|                 9|            NULL| 2014-07-11|                     2019|            60|         Uruguay|          NULL|           NULL|                NULL|         Right|        4|          4|                       5|  High/Medium|Normal (170-185)|      Yes|              NULL|#Acrobat, #Clinic...|Diver, Beat Offsi...|  83|      87|     79|       88|       42|    79|                77|                 91|                        75|                     82|               85|             90|         86|               84|                64|                89|                   88|                   79|              86|                91|              60|              84|           69|           86|            76|              82|                  78|                     41|                   88|              84|                 85|               NULL|                         30|                       45|                      38|                27|                  25|                 31|                     33|                  37|             NULL|86+3|86+3|86+3|85+3|86+3|86+3|86+3|85+3|87+3|87+3|87+3|84+3|77+3|77+3|77+3|84+3|67+3|67+3|67+3|67+3|67+3|62+3|57+3|57+3|57+3|62+3|34+3|https://cdn.sofif...|https://cdn.sofif...|https://cdn.sofif...|                NULL|https://cdn.sofif...|2015|  6|\n",
      "|     7826|https://sofifa.co...|    R. van Persie|    Robin van Persie|              ST|     88|       88|   4.05E7|230000.0| 30|1983-08-06|      187|       71|        11.0|  Manchester United|English Premier L...|           1|           RS|                20|            NULL| 2012-08-17|                     2016|            34|     Netherlands|      105035.0|             LS|                   9|          Left|        3|          4|                       5|   Medium/Low|   Normal (185+)|      Yes|              NULL|#Distance Shooter...|Injury Prone, Fla...|  74|      90|     82|       83|       33|    68|                81|                 91|                        73|                     85|               92|             84|         86|               81|                75|                87|                   73|                   74|              80|                88|              59|              90|           59|           72|            72|              86|                  55|                     34|                   90|              82|                 86|               NULL|                         23|                       32|                      21|                 9|                  10|                  5|                      7|                   8|             NULL|85+3|85+3|85+3|84+3|86+2|86+2|86+2|84+3|85+3|85+3|85+3|82+3|76+3|76+3|76+3|82+3|60+3|63+3|63+3|63+3|60+3|54+3|48+3|48+3|48+3|54+3|13+3|https://cdn.sofif...|https://cdn.sofif...|https://cdn.sofif...|https://cdn.sofif...|https://cdn.sofif...|2015|  7|\n",
      "|   121944|https://sofifa.co...|B. Schweinsteiger|Bastian Schweinst...|         CM, CDM|     88|       88|    3.9E7|200000.0| 29|1984-08-01|      183|       79|        21.0|  FC Bayern München|German 1. Bundesliga|           1|          SUB|                31|            NULL| 2002-07-01|                     2016|            21|         Germany|        1337.0|            SUB|                   7|         Right|        3|          3|                       4|    High/High|Normal (170-185)|      Yes|              NULL|#Playmaker, #Engi...|Injury Prone, Lea...|  61|      81|     85|       82|       78|    80|                81|                 76|                        79|                     88|               83|             81|         82|               78|                87|                86|                   58|                   64|              74|                90|              75|              86|           82|           86|            77|              86|                  80|                     86|                   82|              86|                 81|               NULL|                         69|                       80|                      77|                14|                  14|                 13|                     13|                  11|             NULL|80+2|80+2|80+2|80+2|82+2|82+2|82+2|80+2|84+2|84+2|84+2|82+2|86+2|86+2|86+2|82+2|81+2|84+2|84+2|84+2|81+2|81+2|79+2|79+2|79+2|81+2|18+2|https://cdn.sofif...|https://cdn.sofif...|https://cdn.sofif...|https://cdn.sofif...|https://cdn.sofif...|2015|  8|\n",
      "|   156616|https://sofifa.co...|        F. Ribéry| Franck Bilal Ribéry|              LM|     88|       88|    3.3E7|200000.0| 31|1983-04-07|      170|       72|        21.0|  FC Bayern München|German 1. Bundesliga|           1|          SUB|                 7|            NULL| 2007-07-01|                     2017|            18|          France|          NULL|           NULL|                NULL|         Right|        4|          5|                       4|  High/Medium|   Normal (170-)|      Yes|              NULL| #Dribbler, #Acrobat|Injury Prone, Fla...|  89|      78|     85|       92|       29|    62|                83|                 79|                        41|                     89|               81|             92|         84|               81|                74|                91|                   91|                   87|              92|                89|              92|              76|           51|           72|            62|              73|                  52|                     36|                   83|              88|                 80|               NULL|                         25|                       25|                      26|                15|                   6|                  9|                      7|                  10|             NULL|79+2|79+2|79+2|87+1|82+2|82+2|82+2|87+1|87+1|87+1|87+1|86+2|77+2|77+2|77+2|86+2|63+2|63+2|63+2|63+2|63+2|53+2|44+2|44+2|44+2|53+2|14+2|https://cdn.sofif...|https://cdn.sofif...|https://cdn.sofif...|                NULL|https://cdn.sofif...|2015|  9|\n",
      "|   167397|https://sofifa.co...|           Falcao|Radamel Falcao Ga...|              ST|     88|       88|   4.65E7|250000.0| 28|1986-02-10|      177|       72|        11.0|  Manchester United|English Premier L...|           1|          SUB|                 9|       AS Monaco|       NULL|                     2015|            56|        Colombia|      111109.0|             ST|                   9|         Right|        4|          4|                       4|  High/Medium|Normal (170-185)|      Yes|              NULL|      #Aerial Threat|Finesse Shot, Pow...|  77|      86|     64|       81|       40|    73|                55|                 91|                        94|                     69|               90|             78|         83|               71|                53|                83|                   80|                   75|              85|                89|              75|              79|           93|           71|            74|              77|                  70|                     41|                   92|              68|                 87|               NULL|                         25|                       42|                      25|                10|                  13|                  6|                      9|                   5|             NULL|86+2|86+2|86+2|76+2|83+2|83+2|83+2|76+2|79+2|79+2|79+2|73+2|69+2|69+2|69+2|73+2|58+2|60+2|60+2|60+2|58+2|56+2|55+2|55+2|55+2|56+2|14+2|https://cdn.sofif...|https://cdn.sofif...|https://cdn.sofif...|https://cdn.sofif...|https://cdn.sofif...|2015| 10|\n",
      "|   183277|https://sofifa.co...|        E. Hazard|         Eden Hazard|          LM, RM|     88|       90|   4.05E7|210000.0| 23|1991-01-07|      173|       74|         5.0|            Chelsea|English Premier L...|           1|           LM|                10|            NULL| 2012-07-01|                     2017|             7|         Belgium|        1325.0|             LM|                  10|         Right|        4|          4|                       4|  High/Medium|Normal (170-185)|      Yes|              NULL|#Speedster, #Drib...|Injury Free, Self...|  90|      82|     84|       91|       32|    64|                78|                 83|                        57|                     87|               79|             92|         82|               79|                82|                89|                   93|                   87|              92|                85|              90|              79|           59|           74|            63|              82|                  54|                     41|                   84|              86|                 86|               NULL|                         25|                       27|                      22|                11|                  12|                  6|                      8|                   8|             NULL|81+2|81+2|81+2|86+2|84+2|84+2|84+2|86+2|87+2|87+2|87+2|86+2|78+2|78+2|78+2|86+2|62+2|64+2|64+2|64+2|62+2|54+2|46+2|46+2|46+2|54+2|14+2|https://cdn.sofif...|https://cdn.sofif...|https://cdn.sofif...|https://cdn.sofif...|https://cdn.sofif...|2015| 11|\n",
      "|   121939|https://sofifa.co...|          P. Lahm|        Philipp Lahm|     CDM, RB, CM|     87|       87|   2.45E7|190000.0| 30|1983-11-11|      170|       66|        21.0|  FC Bayern München|German 1. Bundesliga|           1|          RCM|                21|            NULL| 2002-11-01|                     2018|            21|         Germany|          NULL|           NULL|                NULL|         Right|        3|          3|                       4|    High/High|   Normal (170-)|      Yes|              NULL|#Engine, #Tacklin...|Injury Free, Dive...|  76|      56|     84|       83|       87|    67|                84|                 47|                        64|                     88|               66|             80|         77|               59|                84|                85|                   77|                   76|              83|                92|              92|              57|           72|           88|            59|              65|                  58|                     93|                   69|              84|                 72|               NULL|                         87|                       88|                      95|                11|                  12|                  5|                     14|                   5|             NULL|67+2|67+2|67+2|80+2|72+2|72+2|72+2|80+2|79+2|79+2|79+2|83+2|84+2|84+2|84+2|83+2|88-1|85+2|85+2|85+2|88-1|85+2|81+2|81+2|81+2|85+2|15+2|https://cdn.sofif...|https://cdn.sofif...|https://cdn.sofif...|                NULL|https://cdn.sofif...|2015| 12|\n",
      "|   155862|https://sofifa.co...|     Sergio Ramos| Sergio Ramos García|              CB|     87|       87|   3.15E7|220000.0| 28|1986-03-30|      183|       75|       243.0|     Real Madrid CF|Spain Primera Div...|           1|          LCB|                 4|            NULL| 2005-08-01|                     2017|            45|           Spain|        1362.0|            LCB|                  15|         Right|        3|          3|                       4|  High/Medium|Normal (170-185)|      Yes|              NULL|#Tackling, #Tacti...|Leadership, Power...|  79|      61|     71|       66|       87|    82|                74|                 59|                        86|                     76|               55|             52|         73|               64|                70|                83|                   79|                   79|              84|                82|              60|              71|           91|           82|            80|              55|                  83|                     87|                   52|              63|                 68|               NULL|                         85|                       89|                      90|                11|                   8|                  9|                      7|                  11|             NULL|68+2|68+2|68+2|70+2|67+2|67+2|67+2|70+2|68+2|68+2|68+2|71+2|72+2|72+2|72+2|71+2|81+2|80+2|80+2|80+2|81+2|84+2|85+2|85+2|85+2|84+2|14+2|https://cdn.sofif...|https://cdn.sofif...|https://cdn.sofif...|https://cdn.sofif...|https://cdn.sofif...|2015| 13|\n",
      "|   164240|https://sofifa.co...|     Thiago Silva|Thiago Emiliano d...|              CB|     87|       87|    2.9E7|190000.0| 29|1984-09-22|      183|       79|        73.0|Paris Saint-Germain|      French Ligue 1|           1|          LCB|                 2|            NULL| 2012-07-01|                     2018|            54|          Brazil|        1370.0|            LCB|                   3|         Right|        3|          3|                       4|  Medium/High|Normal (170-185)|      Yes|              NULL|#Tackling, #Tacti...|Leadership, Long ...|  78|      57|     72|       72|       90|    80|                60|                 38|                        81|                     75|               63|             68|         61|               73|                81|                78|                   75|                   80|              75|                83|              68|              78|           90|           80|            81|              71|                  76|                     91|                   59|              74|                 71|               NULL|                         90|                       91|                      89|                 9|                  12|                  5|                      9|                  10|             NULL|67+2|67+2|67+2|70+2|69+2|69+2|69+2|70+2|71+2|71+2|71+2|73+2|77+2|77+2|77+2|73+2|81+2|82+2|82+2|82+2|81+2|83+2|85+2|85+2|85+2|83+2|14+2|https://cdn.sofif...|https://cdn.sofif...|https://cdn.sofif...|https://cdn.sofif...|https://cdn.sofif...|2015| 14|\n",
      "|   168542|https://sofifa.co...|      David Silva|David Josué Jimén...|         LM, CAM|     87|       87|   3.65E7|220000.0| 28|1986-01-08|      170|       67|        10.0|    Manchester City|English Premier L...|           1|          CAM|                21|            NULL| 2010-07-14|                     2019|            45|           Spain|        1362.0|            CAM|                  21|          Left|        2|          4|                       4|     High/Low|Normal (170-185)|      Yes|              NULL|#Dribbler, #Playm...|Avoids Using Weak...|  76|      77|     86|       89|       33|    57|                82|                 76|                        58|                     89|               80|             87|         83|               77|                85|                91|                   83|                   71|              93|                85|              88|              76|           66|           68|            53|              80|                  51|                     41|                   84|              90|                 77|               NULL|                         23|                       30|                      29|                13|                   9|                 13|                      9|                  13|             NULL|78+2|78+2|78+2|85+2|82+2|82+2|82+2|85+2|86+1|86+1|86+1|85+2|79+2|79+2|79+2|85+2|63+2|64+2|64+2|64+2|63+2|54+2|47+2|47+2|47+2|54+2|16+2|https://cdn.sofif...|https://cdn.sofif...|https://cdn.sofif...|https://cdn.sofif...|https://cdn.sofif...|2015| 15|\n",
      "|   173731|https://sofifa.co...|          G. Bale|   Gareth Frank Bale|          RM, RW|     87|       91|    3.9E7|200000.0| 24|1989-07-16|      183|       74|       243.0|     Real Madrid CF|Spain Primera Div...|           1|           RW|                11|            NULL| 2013-09-02|                     2019|            50|           Wales|        1367.0|             RM|                  11|          Left|        3|          4|                       4|  High/Medium|  Lean (170-185)|      Yes|              NULL|#Speedster, #Dist...|Avoids Using Weak...|  94|      83|     83|       84|       63|    81|                84|                 81|                        74|                     84|               76|             87|         87|               85|                80|                85|                   93|                   95|              77|                84|              65|              87|           67|           90|            79|              88|                  77|                     59|                   83|              79|                 76|               NULL|                         60|                       65|                      62|                15|                  15|                 11|                      5|                   6|             NULL|83+2|83+2|83+2|85+2|85+2|85+2|85+2|85+2|84+2|84+2|84+2|85+2|81+2|81+2|81+2|85+2|76+2|75+2|75+2|75+2|76+2|74+2|70+2|70+2|70+2|74+2|15+2|https://cdn.sofif...|https://cdn.sofif...|https://cdn.sofif...|https://cdn.sofif...|https://cdn.sofif...|2015| 16|\n",
      "|   177003|https://sofifa.co...|        L. Modrić|         Luka Modrić|         CM, CDM|     87|       87|   3.65E7|220000.0| 28|1985-09-09|      174|       65|       243.0|     Real Madrid CF|Spain Primera Div...|           1|          RCM|                19|            NULL| 2012-08-01|                     2018|            10|         Croatia|          NULL|           NULL|                NULL|         Right|        4|          4|                       4|  High/Medium|  Lean (170-185)|      Yes|              NULL|#Dribbler, #Playm...|Long Passer (AI),...|  76|      74|     85|       89|       71|    70|                78|                 71|                        55|                     88|               75|             86|         82|               79|                86|                92|                   78|                   74|              93|                88|              94|              72|           67|           86|            66|              82|                  62|                     73|                   79|              89|                 80|               NULL|                         69|                       75|                      73|                13|                   9|                  7|                     14|                   9|             NULL|76+2|76+2|76+2|84+2|80+2|80+2|80+2|84+2|85+2|85+2|85+2|85+2|85+2|85+2|85+2|85+2|81+2|80+2|80+2|80+2|81+2|76+2|72+2|72+2|72+2|76+2|16+2|https://cdn.sofif...|https://cdn.sofif...|https://cdn.sofif...|                NULL|https://cdn.sofif...|2015| 17|\n",
      "|   188545|https://sofifa.co...|   R. Lewandowski|  Robert Lewandowski|          ST, CF|     87|       89|    4.4E7|210000.0| 25|1988-08-21|      184|       78|        21.0|  FC Bayern München|German 1. Bundesliga|           1|           LS|                 9|            NULL| 2014-07-01|                     2019|            37|          Poland|        1353.0|             LS|                   9|         Right|        4|          4|                       4|  High/Medium|Normal (170-185)|      Yes|              NULL|  #Clinical Finisher|Injury Free, Chip...|  80|      84|     74|       85|       39|    78|                62|                 87|                        83|                     83|               82|             84|         77|               68|                65|                87|                   79|                   81|              80|                88|              81|              84|           83|           75|            79|              80|                  80|                     39|                   87|              78|                 77|               NULL|                         25|                       42|                      25|                15|                   6|                 12|                      8|                  10|             NULL|85+2|85+2|85+2|80+2|84+2|84+2|84+2|80+2|84+2|84+2|84+2|79+2|75+2|75+2|75+2|79+2|61+2|65+2|65+2|65+2|61+2|58+2|56+2|56+2|56+2|58+2|15+2|https://cdn.sofif...|https://cdn.sofif...|https://cdn.sofif...|https://cdn.sofif...|https://cdn.sofif...|2015| 18|\n",
      "|    10535|https://sofifa.co...|             Xavi|Xavier Hernández ...|              CM|     86|       86|   1.55E7|160000.0| 34|1980-01-25|      170|       68|       241.0|       FC Barcelona|Spain Primera Div...|           1|          SUB|                 6|            NULL| 1998-07-01|                     2021|            45|           Spain|          NULL|           NULL|                NULL|         Right|        3|          3|                       4|Medium/Medium|   Normal (170-)|      Yes|              NULL|#Playmaker, #FK S...|Playmaker (AI), O...|  66|      72|     91|       85|       60|    58|                85|                 74|                        51|                     95|               66|             80|         85|               87|                90|                93|                   67|                   65|              79|                90|              90|              67|           53|           60|            60|              72|                  53|                     71|                   83|              94|                 75|               NULL|                         55|                       61|                      59|                 5|                  15|                 12|                      5|                   9|             NULL|74+2|74+2|74+2|83+2|79+2|79+2|79+2|83+2|  86|  86|  86|84+2|84+2|84+2|84+2|84+2|75+2|77+2|77+2|77+2|75+2|69+2|63+2|63+2|63+2|69+2|13+2|https://cdn.sofif...|https://cdn.sofif...|https://cdn.sofif...|                NULL|https://cdn.sofif...|2015| 19|\n",
      "+---------+--------------------+-----------------+--------------------+----------------+-------+---------+---------+--------+---+----------+---------+---------+------------+-------------------+--------------------+------------+-------------+------------------+----------------+-----------+-------------------------+--------------+----------------+--------------+---------------+--------------------+--------------+---------+-----------+------------------------+-------------+----------------+---------+------------------+--------------------+--------------------+----+--------+-------+---------+---------+------+------------------+-------------------+--------------------------+-----------------------+-----------------+---------------+-----------+-----------------+------------------+------------------+---------------------+---------------------+----------------+------------------+----------------+----------------+-------------+-------------+--------------+----------------+--------------------+-----------------------+---------------------+----------------+-------------------+-------------------+---------------------------+-------------------------+------------------------+------------------+--------------------+-------------------+-----------------------+--------------------+-----------------+----+----+----+----+----+----+----+----+----+----+----+----+----+----+----+----+----+----+----+----+----+----+----+----+----+----+----+--------------------+--------------------+--------------------+--------------------+--------------------+----+---+\n",
      "only showing top 20 rows\n",
      "\n"
     ]
    }
   ],
   "source": [
    "# Check if all records are unique\n",
    "print(fifa.distinct().count() == fifa.count())\n",
    "fifa.count()\n",
    "\n",
    "\n",
    "# Add a unique primary key id column to dataframe\n",
    "\n",
    "fifa = fifa.withColumn(\"id\", monotonically_increasing_id())\n",
    "fifa.show()\n",
    "\n"
   ]
  },
  {
   "cell_type": "code",
   "execution_count": 4,
   "metadata": {},
   "outputs": [
    {
     "name": "stdout",
     "output_type": "stream",
     "text": [
      "root\n",
      " |-- sofifa_id: integer (nullable = true)\n",
      " |-- player_url: string (nullable = true)\n",
      " |-- short_name: string (nullable = true)\n",
      " |-- long_name: string (nullable = true)\n",
      " |-- player_positions: string (nullable = true)\n",
      " |-- overall: integer (nullable = true)\n",
      " |-- potential: integer (nullable = true)\n",
      " |-- value_eur: double (nullable = true)\n",
      " |-- wage_eur: double (nullable = true)\n",
      " |-- age: integer (nullable = true)\n",
      " |-- dob: date (nullable = true)\n",
      " |-- height_cm: integer (nullable = true)\n",
      " |-- weight_kg: integer (nullable = true)\n",
      " |-- club_team_id: double (nullable = true)\n",
      " |-- club_name: string (nullable = true)\n",
      " |-- league_name: string (nullable = true)\n",
      " |-- league_level: integer (nullable = true)\n",
      " |-- club_position: string (nullable = true)\n",
      " |-- club_jersey_number: integer (nullable = true)\n",
      " |-- club_loaned_from: string (nullable = true)\n",
      " |-- club_joined: date (nullable = true)\n",
      " |-- club_contract_valid_until: integer (nullable = true)\n",
      " |-- nationality_id: integer (nullable = true)\n",
      " |-- nationality_name: string (nullable = true)\n",
      " |-- nation_team_id: double (nullable = true)\n",
      " |-- nation_position: string (nullable = true)\n",
      " |-- nation_jersey_number: integer (nullable = true)\n",
      " |-- preferred_foot: string (nullable = true)\n",
      " |-- weak_foot: integer (nullable = true)\n",
      " |-- skill_moves: integer (nullable = true)\n",
      " |-- international_reputation: integer (nullable = true)\n",
      " |-- work_rate: string (nullable = true)\n",
      " |-- body_type: string (nullable = true)\n",
      " |-- real_face: string (nullable = true)\n",
      " |-- release_clause_eur: string (nullable = true)\n",
      " |-- player_tags: string (nullable = true)\n",
      " |-- player_traits: string (nullable = true)\n",
      " |-- pace: integer (nullable = true)\n",
      " |-- shooting: integer (nullable = true)\n",
      " |-- passing: integer (nullable = true)\n",
      " |-- dribbling: integer (nullable = true)\n",
      " |-- defending: integer (nullable = true)\n",
      " |-- physic: integer (nullable = true)\n",
      " |-- attacking_crossing: integer (nullable = true)\n",
      " |-- attacking_finishing: integer (nullable = true)\n",
      " |-- attacking_heading_accuracy: integer (nullable = true)\n",
      " |-- attacking_short_passing: integer (nullable = true)\n",
      " |-- attacking_volleys: integer (nullable = true)\n",
      " |-- skill_dribbling: integer (nullable = true)\n",
      " |-- skill_curve: integer (nullable = true)\n",
      " |-- skill_fk_accuracy: integer (nullable = true)\n",
      " |-- skill_long_passing: integer (nullable = true)\n",
      " |-- skill_ball_control: integer (nullable = true)\n",
      " |-- movement_acceleration: integer (nullable = true)\n",
      " |-- movement_sprint_speed: integer (nullable = true)\n",
      " |-- movement_agility: integer (nullable = true)\n",
      " |-- movement_reactions: integer (nullable = true)\n",
      " |-- movement_balance: integer (nullable = true)\n",
      " |-- power_shot_power: integer (nullable = true)\n",
      " |-- power_jumping: integer (nullable = true)\n",
      " |-- power_stamina: integer (nullable = true)\n",
      " |-- power_strength: integer (nullable = true)\n",
      " |-- power_long_shots: integer (nullable = true)\n",
      " |-- mentality_aggression: integer (nullable = true)\n",
      " |-- mentality_interceptions: integer (nullable = true)\n",
      " |-- mentality_positioning: integer (nullable = true)\n",
      " |-- mentality_vision: integer (nullable = true)\n",
      " |-- mentality_penalties: integer (nullable = true)\n",
      " |-- mentality_composure: string (nullable = true)\n",
      " |-- defending_marking_awareness: integer (nullable = true)\n",
      " |-- defending_standing_tackle: integer (nullable = true)\n",
      " |-- defending_sliding_tackle: integer (nullable = true)\n",
      " |-- goalkeeping_diving: integer (nullable = true)\n",
      " |-- goalkeeping_handling: integer (nullable = true)\n",
      " |-- goalkeeping_kicking: integer (nullable = true)\n",
      " |-- goalkeeping_positioning: integer (nullable = true)\n",
      " |-- goalkeeping_reflexes: integer (nullable = true)\n",
      " |-- goalkeeping_speed: integer (nullable = true)\n",
      " |-- ls: string (nullable = true)\n",
      " |-- st: string (nullable = true)\n",
      " |-- rs: string (nullable = true)\n",
      " |-- lw: string (nullable = true)\n",
      " |-- lf: string (nullable = true)\n",
      " |-- cf: string (nullable = true)\n",
      " |-- rf: string (nullable = true)\n",
      " |-- rw: string (nullable = true)\n",
      " |-- lam: string (nullable = true)\n",
      " |-- cam: string (nullable = true)\n",
      " |-- ram: string (nullable = true)\n",
      " |-- lm: string (nullable = true)\n",
      " |-- lcm: string (nullable = true)\n",
      " |-- cm: string (nullable = true)\n",
      " |-- rcm: string (nullable = true)\n",
      " |-- rm: string (nullable = true)\n",
      " |-- lwb: string (nullable = true)\n",
      " |-- ldm: string (nullable = true)\n",
      " |-- cdm: string (nullable = true)\n",
      " |-- rdm: string (nullable = true)\n",
      " |-- rwb: string (nullable = true)\n",
      " |-- lb: string (nullable = true)\n",
      " |-- lcb: string (nullable = true)\n",
      " |-- cb: string (nullable = true)\n",
      " |-- rcb: string (nullable = true)\n",
      " |-- rb: string (nullable = true)\n",
      " |-- gk: string (nullable = true)\n",
      " |-- player_face_url: string (nullable = true)\n",
      " |-- club_logo_url: string (nullable = true)\n",
      " |-- club_flag_url: string (nullable = true)\n",
      " |-- nation_logo_url: string (nullable = true)\n",
      " |-- nation_flag_url: string (nullable = true)\n",
      " |-- year: string (nullable = false)\n",
      " |-- id: long (nullable = false)\n",
      "\n"
     ]
    }
   ],
   "source": [
    "# Schema\n",
    "fifa.printSchema()"
   ]
  },
  {
   "cell_type": "markdown",
   "metadata": {},
   "source": [
    "# Write Spark DF to Postgres"
   ]
  },
  {
   "cell_type": "code",
   "execution_count": 5,
   "metadata": {},
   "outputs": [
    {
     "name": "stderr",
     "output_type": "stream",
     "text": [
      "23/11/11 15:52:48 WARN GarbageCollectionMetrics: To enable non-built-in garbage collector(s) List(G1 Concurrent GC), users should configure it(them) to spark.eventLog.gcMetrics.youngGenerationGarbageCollectors or spark.eventLog.gcMetrics.oldGenerationGarbageCollectors\n",
      "                                                                                \r"
     ]
    }
   ],
   "source": [
    "# Wirte Spark df to postgres database table\n",
    "\n",
    "# Specify the primary key columns\n",
    "primary_key_columns = \"sofifa_id, year\"  # Replace with your actual column names\n",
    "\n",
    "\n",
    "\n",
    "db_properties={}\n",
    "#update your db username\n",
    "db_properties['username']=\"tungyuhsiao\"\n",
    "#update your db password\n",
    "db_properties['password']=\"10430041\"\n",
    "#make sure you got the right port number here\n",
    "db_properties['url']= \"jdbc:postgresql://localhost:5432/postgres\"\n",
    "#make sure you had the Postgres JAR file in the right location\n",
    "db_properties['driver']=\"org.postgresql.Driver\"\n",
    "db_properties['table']= \"fifa\"\n",
    "db_properties[\"primary_key_cloumns\"] = \"sofifa_id, year\"\n",
    "\n",
    "\n",
    "\n",
    "# Write the DataFrame to PostgreSQL with the specified primary key\n",
    "fifa.write.format(\"jdbc\") \\\n",
    "    .mode(\"overwrite\").option(\"url\", db_properties[\"url\"]) \\\n",
    "    .option(\"dbtable\", db_properties[\"table\"]) \\\n",
    "    .option(\"user\", db_properties[\"username\"]) \\\n",
    "    .option(\"password\", db_properties[\"password\"]) \\\n",
    "    .option(\"driver\", db_properties[\"driver\"]).save()\n",
    "    # .option(\"createTableColumnTypes\", \"primary key (sofifa_id, year)\") \\\n",
    "    "
   ]
  },
  {
   "cell_type": "code",
   "execution_count": 6,
   "metadata": {},
   "outputs": [
    {
     "name": "stderr",
     "output_type": "stream",
     "text": [
      "                                                                                \r"
     ]
    }
   ],
   "source": [
    "# Wirte Spark df to postgres database table\n",
    "\n",
    "# Specify the primary key columns\n",
    "primary_key_columns = \"sofifa_id, year\"  # Replace with your actual column names\n",
    "\n",
    "\n",
    "\n",
    "db_properties={}\n",
    "#update your db username\n",
    "db_properties['username']=\"tungyuhsiao\"\n",
    "#update your db password\n",
    "db_properties['password']=\"10430041\"\n",
    "#make sure you got the right port number here\n",
    "db_properties['url']= \"jdbc:postgresql://localhost:5432/postgres\"\n",
    "#make sure you had the Postgres JAR file in the right location\n",
    "db_properties['driver']=\"org.postgresql.Driver\"\n",
    "db_properties['table']= \"fifa\"\n",
    "db_properties[\"primary_key_cloumns\"] = \"sofifa_id, year\"\n",
    "\n",
    "\n",
    "\n",
    "# Write the DataFrame to PostgreSQL with the specified primary key\n",
    "fifa.write.format(\"jdbc\") \\\n",
    "    .mode(\"overwrite\").option(\"url\", db_properties[\"url\"]) \\\n",
    "    .option(\"dbtable\", db_properties[\"table\"]) \\\n",
    "    .option(\"user\", db_properties[\"username\"]) \\\n",
    "    .option(\"password\", db_properties[\"password\"]) \\\n",
    "    .option(\"driver\", db_properties[\"driver\"]).save()\n",
    "    # .option(\"createTableColumnTypes\", \"primary key (sofifa_id, year)\") \\\n",
    "    "
   ]
  },
  {
   "cell_type": "markdown",
   "metadata": {},
   "source": [
    "# Calculating Players Contract Ending 2023 in 2022"
   ]
  },
  {
   "cell_type": "code",
   "execution_count": 7,
   "metadata": {},
   "outputs": [],
   "source": [
    "# Define a function to extract top N team with players contract ending in 2023\n",
    "from pyspark.sql.functions import *\n",
    "def getXClubWithMostPlayerContractEnd(X:int):\n",
    "    # Filter players contract \n",
    "    fifa_2022 = fifa.filter(col(\"year\") == \"2022\")\n",
    "\n",
    "\n",
    "    # Filter players contract ending at 2023\n",
    "    fifa_2022_p2023 = fifa_2022.filter(col(\"club_contract_valid_until\") == 2023)\n",
    "\n",
    "    print(\"Percentage of players in year 2022 with contract ending in 2023 is %f %%\" % (fifa_2022_p2023.count()/ fifa_2022.count() * 100))\n",
    "    # show count of players contract ending in 2023 by clubs \n",
    "    playersByClub = fifa_2022_p2023.groupby(\"club_name\").count().sort(col(\"count\"), ascending = False)\n",
    "\n",
    "\n",
    "    # Show the team with most players contract ending in 2023\n",
    "    top_teams = playersByClub.orderBy(col('count').desc()).limit(X)\n",
    "\n",
    "    # DF excluding Top X Selected teams\n",
    "    dfExcludeTopN = playersByClub.subtract(top_teams)\n",
    "    \n",
    "    # handle special scenario (where there are multiple teams sharing same amount of players ending in 2023)\n",
    "    Edge = top_teams.tail(1)[0][1]  # extract the ranked team\n",
    "    Edge_club = dfExcludeTopN.filter(col(\"count\") == Edge)  # extract team left in the subtracted df where they share same amount of player as the last ranked team \n",
    "\n",
    "    output = top_teams.union(Edge_club)\n",
    "    output.show()\n",
    "    return output\n",
    "\n",
    "    \n"
   ]
  },
  {
   "cell_type": "code",
   "execution_count": 8,
   "metadata": {},
   "outputs": [
    {
     "name": "stdout",
     "output_type": "stream",
     "text": [
      "Percentage of players in year 2022 with contract ending in 2023 is 23.623889 %\n",
      "+--------------------+-----+\n",
      "|           club_name|count|\n",
      "+--------------------+-----+\n",
      "|En Avant de Guingamp|   19|\n",
      "| Club Atlético Lanús|   17|\n",
      "|       Lechia Gdańsk|   17|\n",
      "|            Barnsley|   16|\n",
      "|        Kasimpaşa SK|   16|\n",
      "|        Bengaluru FC|   16|\n",
      "+--------------------+-----+\n",
      "\n"
     ]
    }
   ],
   "source": [
    "# Customize X for user input\n",
    "# X = input(\"Insert number of desired teams to extract\")\n",
    "\n",
    "X = 5\n",
    "teams = getXClubWithMostPlayerContractEnd(5)"
   ]
  },
  {
   "cell_type": "markdown",
   "metadata": {},
   "source": [
    "# List the Y clubs with highest average number of players that are older than 27 years across all years "
   ]
  },
  {
   "cell_type": "code",
   "execution_count": 9,
   "metadata": {},
   "outputs": [],
   "source": [
    "def highestAVGPlayerAge(Y:int):\n",
    "    oldPlayer = fifa.filter(col(\"age\") > 27)\n",
    "\n",
    "\n",
    "    # Identify & remove players not affiliated to a club \n",
    "    oldPlayerFiltered = oldPlayer.na.drop(subset = [\"club_name\", \"age\"])\n",
    "    # oldPlayerFiltered.show()\n",
    "\n",
    "\n",
    "    # Group by club \n",
    "    count_oldPlayer = oldPlayerFiltered.groupBy(col(\"club_name\"), col(\"year\")).count()\n",
    "    count_oldPlayer_ordered = count_oldPlayer.groupby(col(\"club_name\")).mean().sort(col(\"avg(count)\"), ascending = False)\n",
    "    # count_oldPlayer_ordered.show()\n",
    "\n",
    "    firstN = count_oldPlayer_ordered.limit(Y)\n",
    "\n",
    "    # handle special scenario\n",
    "\n",
    "    Edge = firstN.tail(1)[0][1]\n",
    "\n",
    "    # DF excluding Top X Selected teams\n",
    "    dfExcludeTopN = count_oldPlayer_ordered.subtract(firstN)\n",
    "\n",
    "    # handle special scenario (where there are multiple teams sharing same amount of players ending in 2023)\n",
    "    Edge = firstN.tail(1)[0][1]  # extract the ranked team\n",
    "    Edge_club = dfExcludeTopN.filter(col(\"avg(count)\") == Edge)  # extract team left in the subtracted df where they share same amount of player as the last ranked team \n",
    "\n",
    "    output = firstN.union(Edge_club)\n",
    "    output.show()\n",
    "\n",
    "    return output\n",
    "\n"
   ]
  },
  {
   "cell_type": "code",
   "execution_count": 10,
   "metadata": {},
   "outputs": [
    {
     "name": "stderr",
     "output_type": "stream",
     "text": [
      "[Stage 57:===========================================>              (6 + 1) / 8]\r"
     ]
    },
    {
     "name": "stdout",
     "output_type": "stream",
     "text": [
      "+--------------------+----------+\n",
      "|           club_name|avg(count)|\n",
      "+--------------------+----------+\n",
      "|  Dorados de Sinaloa|      19.0|\n",
      "| Matsumoto Yamaga FC|      19.0|\n",
      "| Shanghai Shenhua FC|      18.5|\n",
      "|          Qingdao FC|      18.0|\n",
      "|Club Deportivo Jo...|      17.5|\n",
      "|            Altay SK|      17.0|\n",
      "|         Guaireña FC|      17.0|\n",
      "+--------------------+----------+\n",
      "\n"
     ]
    },
    {
     "name": "stderr",
     "output_type": "stream",
     "text": [
      "                                                                                \r"
     ]
    }
   ],
   "source": [
    "# Customize Y for user input\n",
    "# Y = input(\"Insert number of desired teams to extract\")\n",
    "Y = 6\n",
    "old_teams = highestAVGPlayerAge(Y)"
   ]
  },
  {
   "cell_type": "markdown",
   "metadata": {},
   "source": [
    "#  Find the most frequent nation_position in the dataset for each year"
   ]
  },
  {
   "cell_type": "code",
   "execution_count": 11,
   "metadata": {},
   "outputs": [
    {
     "name": "stdout",
     "output_type": "stream",
     "text": [
      "+-----+----+---------------+\n",
      "|count|year|nation_position|\n",
      "+-----+----+---------------+\n",
      "|  564|2015|            SUB|\n",
      "|  511|2016|            SUB|\n",
      "|  564|2017|            SUB|\n",
      "|  600|2018|            SUB|\n",
      "|  576|2019|            SUB|\n",
      "|  588|2020|            SUB|\n",
      "|  588|2021|            SUB|\n",
      "|  396|2022|            SUB|\n",
      "+-----+----+---------------+\n",
      "\n"
     ]
    }
   ],
   "source": [
    "# Check NULL values in column national_position \n",
    "# Show players who are not affiliated to a national team \n",
    "fifa.select(col(\"long_name\")).filter(col(\"nation_position\").isNull())\n",
    "\n",
    "# Remove players not in nation teams\n",
    "nationPlayers = fifa.na.drop(subset = [\"nation_position\"])\n",
    "position_count = nationPlayers.groupBy([\"year\", \"nation_position\"]).count()\n",
    "\n",
    "# Max by year\n",
    "position_count.join(position_count.groupBy(\"year\").agg(max(\"count\").alias(\"count\")), on = \"count\", how=\"leftsemi\").show()\n",
    "\n"
   ]
  },
  {
   "cell_type": "markdown",
   "metadata": {},
   "source": [
    "#  Find the most frequent nation_position in the dataset for each year"
   ]
  },
  {
   "cell_type": "code",
   "execution_count": 12,
   "metadata": {},
   "outputs": [
    {
     "name": "stdout",
     "output_type": "stream",
     "text": [
      "+-----+----+---------------+\n",
      "|count|year|nation_position|\n",
      "+-----+----+---------------+\n",
      "|  564|2015|            SUB|\n",
      "|  511|2016|            SUB|\n",
      "|  564|2017|            SUB|\n",
      "|  600|2018|            SUB|\n",
      "|  576|2019|            SUB|\n",
      "|  588|2020|            SUB|\n",
      "|  588|2021|            SUB|\n",
      "|  396|2022|            SUB|\n",
      "+-----+----+---------------+\n",
      "\n"
     ]
    }
   ],
   "source": [
    "# Check NULL values in column national_position \n",
    "\n",
    "# Show players who are not affiliated to a national team \n",
    "fifa.select(col(\"long_name\")).filter(col(\"nation_position\").isNull())\n",
    "\n",
    "# Remove players not in nation teams\n",
    "nationPlayers = fifa.na.drop(subset = [\"nation_position\"])\n",
    "position_count = nationPlayers.groupBy([\"year\", \"nation_position\"]).count()\n",
    "\n",
    "# Max by year\n",
    "position_count.join(position_count.groupBy(\"year\").agg(max(\"count\").alias(\"count\")), on = \"count\", how=\"leftsemi\").show()\n",
    "\n"
   ]
  },
  {
   "cell_type": "code",
   "execution_count": 19,
   "metadata": {},
   "outputs": [
    {
     "name": "stderr",
     "output_type": "stream",
     "text": [
      "                                                                                \r"
     ]
    }
   ],
   "source": [
    "# Save df \n",
    "fifa.write.format(\"jdbc\") \\\n",
    "    .mode(\"overwrite\").option(\"url\", db_properties[\"url\"]) \\\n",
    "    .option(\"dbtable\", db_properties[\"table\"]) \\\n",
    "    .option(\"user\", db_properties[\"username\"]) \\\n",
    "    .option(\"password\", db_properties[\"password\"]) \\\n",
    "    .option(\"driver\", db_properties[\"driver\"])\\\n",
    "    .save()"
   ]
  },
  {
   "cell_type": "code",
   "execution_count": 20,
   "metadata": {},
   "outputs": [
    {
     "name": "stdout",
     "output_type": "stream",
     "text": [
      "+---------+--------------------+-----------------+--------------------+----------------+-------+---------+---------+--------+---+----------+---------+---------+------------+-------------------+--------------------+------------+-------------+------------------+----------------+-----------+-------------------------+--------------+----------------+--------------+---------------+--------------------+--------------+---------+-----------+------------------------+-------------+----------------+---------+------------------+--------------------+--------------------+----+--------+-------+---------+---------+------+------------------+-------------------+--------------------------+-----------------------+-----------------+---------------+-----------+-----------------+------------------+------------------+---------------------+---------------------+----------------+------------------+----------------+----------------+-------------+-------------+--------------+----------------+--------------------+-----------------------+---------------------+----------------+-------------------+-------------------+---------------------------+-------------------------+------------------------+------------------+--------------------+-------------------+-----------------------+--------------------+-----------------+----+----+----+----+----+----+----+----+----+----+----+----+----+----+----+----+----+----+----+----+----+----+----+----+----+----+----+--------------------+--------------------+--------------------+--------------------+--------------------+----+---+\n",
      "|sofifa_id|          player_url|       short_name|           long_name|player_positions|overall|potential|value_eur|wage_eur|age|       dob|height_cm|weight_kg|club_team_id|          club_name|         league_name|league_level|club_position|club_jersey_number|club_loaned_from|club_joined|club_contract_valid_until|nationality_id|nationality_name|nation_team_id|nation_position|nation_jersey_number|preferred_foot|weak_foot|skill_moves|international_reputation|    work_rate|       body_type|real_face|release_clause_eur|         player_tags|       player_traits|pace|shooting|passing|dribbling|defending|physic|attacking_crossing|attacking_finishing|attacking_heading_accuracy|attacking_short_passing|attacking_volleys|skill_dribbling|skill_curve|skill_fk_accuracy|skill_long_passing|skill_ball_control|movement_acceleration|movement_sprint_speed|movement_agility|movement_reactions|movement_balance|power_shot_power|power_jumping|power_stamina|power_strength|power_long_shots|mentality_aggression|mentality_interceptions|mentality_positioning|mentality_vision|mentality_penalties|mentality_composure|defending_marking_awareness|defending_standing_tackle|defending_sliding_tackle|goalkeeping_diving|goalkeeping_handling|goalkeeping_kicking|goalkeeping_positioning|goalkeeping_reflexes|goalkeeping_speed|  ls|  st|  rs|  lw|  lf|  cf|  rf|  rw| lam| cam| ram|  lm| lcm|  cm| rcm|  rm| lwb| ldm| cdm| rdm| rwb|  lb| lcb|  cb| rcb|  rb|  gk|     player_face_url|       club_logo_url|       club_flag_url|     nation_logo_url|     nation_flag_url|year| id|\n",
      "+---------+--------------------+-----------------+--------------------+----------------+-------+---------+---------+--------+---+----------+---------+---------+------------+-------------------+--------------------+------------+-------------+------------------+----------------+-----------+-------------------------+--------------+----------------+--------------+---------------+--------------------+--------------+---------+-----------+------------------------+-------------+----------------+---------+------------------+--------------------+--------------------+----+--------+-------+---------+---------+------+------------------+-------------------+--------------------------+-----------------------+-----------------+---------------+-----------+-----------------+------------------+------------------+---------------------+---------------------+----------------+------------------+----------------+----------------+-------------+-------------+--------------+----------------+--------------------+-----------------------+---------------------+----------------+-------------------+-------------------+---------------------------+-------------------------+------------------------+------------------+--------------------+-------------------+-----------------------+--------------------+-----------------+----+----+----+----+----+----+----+----+----+----+----+----+----+----+----+----+----+----+----+----+----+----+----+----+----+----+----+--------------------+--------------------+--------------------+--------------------+--------------------+----+---+\n",
      "|   158023|https://sofifa.co...|         L. Messi|Lionel Andrés Mes...|              CF|     93|       95|  1.005E8|550000.0| 27|1987-06-24|      169|       67|       241.0|       FC Barcelona|Spain Primera Div...|           1|           CF|                10|            NULL| 2004-07-01|                     2018|            52|       Argentina|        1369.0|             CF|                  10|          Left|        3|          4|                       5|   Medium/Low|   Normal (170-)|      Yes|              NULL|#Speedster, #Drib...|Finesse Shot, Spe...|  93|      89|     86|       96|       27|    63|                84|                 94|                        71|                     89|               85|             96|         89|               90|                76|                96|                   96|                   90|              94|                94|              95|              80|           73|           77|            60|              88|                  48|                     22|                   92|              90|                 76|               NULL|                         25|                       21|                      20|                 6|                  11|                 15|                     14|                   8|             NULL|89+3|89+3|89+3|92+3|90+3|90+3|90+3|92+3|92+3|92+3|92+3|90+3|79+3|79+3|79+3|90+3|62+3|62+3|62+3|62+3|62+3|54+3|45+3|45+3|45+3|54+3|15+3|https://cdn.sofif...|https://cdn.sofif...|https://cdn.sofif...|https://cdn.sofif...|https://cdn.sofif...|2015|  0|\n",
      "|    20801|https://sofifa.co...|Cristiano Ronaldo|Cristiano Ronaldo...|          LW, LM|     92|       92|    7.9E7|375000.0| 29|1985-02-05|      185|       80|       243.0|     Real Madrid CF|Spain Primera Div...|           1|           LW|                 7|            NULL| 2009-07-01|                     2018|            38|        Portugal|        1354.0|             LW|                   7|         Right|        4|          5|                       5|     High/Low|   Normal (185+)|      Yes|              NULL|#Speedster, #Drib...|Power Free-Kick, ...|  93|      93|     81|       91|       32|    79|                83|                 95|                        86|                     82|               87|             93|         88|               79|                72|                92|                   91|                   94|              93|                90|              63|              94|           94|           89|            79|              93|                  63|                     24|                   91|              81|                 85|               NULL|                         22|                       31|                      23|                 7|                  11|                 15|                     14|                  11|             NULL|91+1|91+1|91+1|89+3|91+1|91+1|91+1|89+3|89+3|89+3|89+3|87+3|77+3|77+3|77+3|87+3|63+3|63+3|63+3|63+3|63+3|57+3|52+3|52+3|52+3|57+3|16+3|https://cdn.sofif...|https://cdn.sofif...|https://cdn.sofif...|https://cdn.sofif...|https://cdn.sofif...|2015|  1|\n",
      "|     9014|https://sofifa.co...|        A. Robben|        Arjen Robben|      RM, LM, RW|     90|       90|   5.45E7|275000.0| 30|1984-01-23|      180|       80|        21.0|  FC Bayern München|German 1. Bundesliga|           1|          SUB|                10|            NULL| 2009-08-28|                     2017|            34|     Netherlands|      105035.0|             RS|                  11|          Left|        2|          4|                       5|     High/Low|Normal (170-185)|      Yes|              NULL|#Speedster, #Drib...|Diver, Injury Pro...|  93|      86|     83|       92|       32|    64|                80|                 85|                        50|                     86|               86|             93|         85|               83|                76|                90|                   93|                   93|              93|                89|              91|              86|           61|           78|            65|              90|                  47|                     39|                   89|              84|                 80|               NULL|                         29|                       26|                      26|                10|                   8|                 11|                      5|                  15|             NULL|84+3|84+3|84+3|88+2|87+3|87+3|87+3|88+2|88+2|88+2|88+2|87+3|78+3|78+3|78+3|87+3|64+3|64+3|64+3|64+3|64+3|55+3|46+3|46+3|46+3|55+3|14+3|https://cdn.sofif...|https://cdn.sofif...|https://cdn.sofif...|https://cdn.sofif...|https://cdn.sofif...|2015|  2|\n",
      "|    41236|https://sofifa.co...|   Z. Ibrahimović|  Zlatan Ibrahimović|              ST|     90|       90|   5.25E7|275000.0| 32|1981-10-03|      195|       95|        73.0|Paris Saint-Germain|      French Ligue 1|           1|           ST|                10|            NULL| 2012-07-01|                     2016|            46|          Sweden|        1363.0|             ST|                  10|         Right|        4|          4|                       5|   Medium/Low|   Normal (185+)|      Yes|              NULL|#Poacher, #Aerial...|Power Free-Kick, ...|  76|      91|     81|       86|       34|    86|                76|                 91|                        76|                     84|               92|             88|         80|               80|                76|                90|                   74|                   77|              86|                85|              41|              93|           72|           78|            93|              88|                  84|                     20|                   86|              83|                 91|               NULL|                         25|                       41|                      27|                13|                  15|                 10|                      9|                  12|             NULL|87+3|87+3|87+3|84+3|86+3|86+3|86+3|84+3|86+3|86+3|86+3|83+3|76+3|76+3|76+3|83+3|61+3|65+3|65+3|65+3|61+3|56+3|55+3|55+3|55+3|56+3|17+3|https://cdn.sofif...|https://cdn.sofif...|https://cdn.sofif...|https://cdn.sofif...|https://cdn.sofif...|2015|  3|\n",
      "|   167495|https://sofifa.co...|         M. Neuer|  Manuel Peter Neuer|              GK|     90|       90|   6.35E7|300000.0| 28|1986-03-27|      193|       92|        21.0|  FC Bayern München|German 1. Bundesliga|           1|           GK|                 1|            NULL| 2011-07-01|                     2019|            21|         Germany|        1337.0|             GK|                   1|         Right|        4|          1|                       5|Medium/Medium|   Normal (185+)|      Yes|              NULL|                NULL|GK Up for Corners...|NULL|    NULL|   NULL|     NULL|     NULL|  NULL|                25|                 25|                        25|                     42|               25|             25|         25|               25|                41|                31|                   58|                   61|              43|                89|              35|              42|           78|           44|            83|              25|                  29|                     30|                   25|              20|                 37|               NULL|                         25|                       25|                      25|                87|                  85|                 92|                     90|                  86|               60|38+3|38+3|38+3|36+3|37+3|37+3|37+3|36+3|36+3|36+3|36+3|38+3|36+3|36+3|36+3|38+3|36+3|40+3|40+3|40+3|36+3|36+3|38+3|38+3|38+3|36+3|87+3|https://cdn.sofif...|https://cdn.sofif...|https://cdn.sofif...|https://cdn.sofif...|https://cdn.sofif...|2015|  4|\n",
      "|       41|https://sofifa.co...|          Iniesta|Andrés Iniesta Luján|          CM, LW|     89|       89|    3.6E7|250000.0| 30|1984-05-11|      170|       65|       241.0|       FC Barcelona|Spain Primera Div...|           1|          LCM|                 8|            NULL| 2002-07-01|                     2018|            45|           Spain|        1362.0|             LW|                   6|         Right|        4|          4|                       5|  High/Medium|   Normal (170-)|      Yes|              NULL|#Dribbler, #Playm...|Finesse Shot, Pla...|  75|      72|     89|       91|       59|    63|                85|                 73|                        54|                     93|               74|             92|         80|               70|                89|                94|                   76|                   75|              83|                90|              86|              65|           54|           78|            59|              75|                  58|                     68|                   87|              93|                 71|               NULL|                         57|                       57|                      56|                 6|                  13|                  6|                     13|                   7|             NULL|77+3|77+3|77+3|87+2|82+3|82+3|82+3|87+2|88+1|88+1|88+1|88+1|86+3|86+3|86+3|88+1|76+3|77+3|77+3|77+3|76+3|70+3|63+3|63+3|63+3|70+3|14+3|https://cdn.sofif...|https://cdn.sofif...|https://cdn.sofif...|https://cdn.sofif...|https://cdn.sofif...|2015|  5|\n",
      "|   176580|https://sofifa.co...|        L. Suárez|Luis Alberto Suár...|          ST, CF|     89|       91|   4.95E7|300000.0| 27|1987-01-24|      181|       81|       241.0|       FC Barcelona|Spain Primera Div...|           1|          RES|                 9|            NULL| 2014-07-11|                     2019|            60|         Uruguay|          NULL|           NULL|                NULL|         Right|        4|          4|                       5|  High/Medium|Normal (170-185)|      Yes|              NULL|#Acrobat, #Clinic...|Diver, Beat Offsi...|  83|      87|     79|       88|       42|    79|                77|                 91|                        75|                     82|               85|             90|         86|               84|                64|                89|                   88|                   79|              86|                91|              60|              84|           69|           86|            76|              82|                  78|                     41|                   88|              84|                 85|               NULL|                         30|                       45|                      38|                27|                  25|                 31|                     33|                  37|             NULL|86+3|86+3|86+3|85+3|86+3|86+3|86+3|85+3|87+3|87+3|87+3|84+3|77+3|77+3|77+3|84+3|67+3|67+3|67+3|67+3|67+3|62+3|57+3|57+3|57+3|62+3|34+3|https://cdn.sofif...|https://cdn.sofif...|https://cdn.sofif...|                NULL|https://cdn.sofif...|2015|  6|\n",
      "|     7826|https://sofifa.co...|    R. van Persie|    Robin van Persie|              ST|     88|       88|   4.05E7|230000.0| 30|1983-08-06|      187|       71|        11.0|  Manchester United|English Premier L...|           1|           RS|                20|            NULL| 2012-08-17|                     2016|            34|     Netherlands|      105035.0|             LS|                   9|          Left|        3|          4|                       5|   Medium/Low|   Normal (185+)|      Yes|              NULL|#Distance Shooter...|Injury Prone, Fla...|  74|      90|     82|       83|       33|    68|                81|                 91|                        73|                     85|               92|             84|         86|               81|                75|                87|                   73|                   74|              80|                88|              59|              90|           59|           72|            72|              86|                  55|                     34|                   90|              82|                 86|               NULL|                         23|                       32|                      21|                 9|                  10|                  5|                      7|                   8|             NULL|85+3|85+3|85+3|84+3|86+2|86+2|86+2|84+3|85+3|85+3|85+3|82+3|76+3|76+3|76+3|82+3|60+3|63+3|63+3|63+3|60+3|54+3|48+3|48+3|48+3|54+3|13+3|https://cdn.sofif...|https://cdn.sofif...|https://cdn.sofif...|https://cdn.sofif...|https://cdn.sofif...|2015|  7|\n",
      "|   121944|https://sofifa.co...|B. Schweinsteiger|Bastian Schweinst...|         CM, CDM|     88|       88|    3.9E7|200000.0| 29|1984-08-01|      183|       79|        21.0|  FC Bayern München|German 1. Bundesliga|           1|          SUB|                31|            NULL| 2002-07-01|                     2016|            21|         Germany|        1337.0|            SUB|                   7|         Right|        3|          3|                       4|    High/High|Normal (170-185)|      Yes|              NULL|#Playmaker, #Engi...|Injury Prone, Lea...|  61|      81|     85|       82|       78|    80|                81|                 76|                        79|                     88|               83|             81|         82|               78|                87|                86|                   58|                   64|              74|                90|              75|              86|           82|           86|            77|              86|                  80|                     86|                   82|              86|                 81|               NULL|                         69|                       80|                      77|                14|                  14|                 13|                     13|                  11|             NULL|80+2|80+2|80+2|80+2|82+2|82+2|82+2|80+2|84+2|84+2|84+2|82+2|86+2|86+2|86+2|82+2|81+2|84+2|84+2|84+2|81+2|81+2|79+2|79+2|79+2|81+2|18+2|https://cdn.sofif...|https://cdn.sofif...|https://cdn.sofif...|https://cdn.sofif...|https://cdn.sofif...|2015|  8|\n",
      "|   156616|https://sofifa.co...|        F. Ribéry| Franck Bilal Ribéry|              LM|     88|       88|    3.3E7|200000.0| 31|1983-04-07|      170|       72|        21.0|  FC Bayern München|German 1. Bundesliga|           1|          SUB|                 7|            NULL| 2007-07-01|                     2017|            18|          France|          NULL|           NULL|                NULL|         Right|        4|          5|                       4|  High/Medium|   Normal (170-)|      Yes|              NULL| #Dribbler, #Acrobat|Injury Prone, Fla...|  89|      78|     85|       92|       29|    62|                83|                 79|                        41|                     89|               81|             92|         84|               81|                74|                91|                   91|                   87|              92|                89|              92|              76|           51|           72|            62|              73|                  52|                     36|                   83|              88|                 80|               NULL|                         25|                       25|                      26|                15|                   6|                  9|                      7|                  10|             NULL|79+2|79+2|79+2|87+1|82+2|82+2|82+2|87+1|87+1|87+1|87+1|86+2|77+2|77+2|77+2|86+2|63+2|63+2|63+2|63+2|63+2|53+2|44+2|44+2|44+2|53+2|14+2|https://cdn.sofif...|https://cdn.sofif...|https://cdn.sofif...|                NULL|https://cdn.sofif...|2015|  9|\n",
      "|   167397|https://sofifa.co...|           Falcao|Radamel Falcao Ga...|              ST|     88|       88|   4.65E7|250000.0| 28|1986-02-10|      177|       72|        11.0|  Manchester United|English Premier L...|           1|          SUB|                 9|       AS Monaco|       NULL|                     2015|            56|        Colombia|      111109.0|             ST|                   9|         Right|        4|          4|                       4|  High/Medium|Normal (170-185)|      Yes|              NULL|      #Aerial Threat|Finesse Shot, Pow...|  77|      86|     64|       81|       40|    73|                55|                 91|                        94|                     69|               90|             78|         83|               71|                53|                83|                   80|                   75|              85|                89|              75|              79|           93|           71|            74|              77|                  70|                     41|                   92|              68|                 87|               NULL|                         25|                       42|                      25|                10|                  13|                  6|                      9|                   5|             NULL|86+2|86+2|86+2|76+2|83+2|83+2|83+2|76+2|79+2|79+2|79+2|73+2|69+2|69+2|69+2|73+2|58+2|60+2|60+2|60+2|58+2|56+2|55+2|55+2|55+2|56+2|14+2|https://cdn.sofif...|https://cdn.sofif...|https://cdn.sofif...|https://cdn.sofif...|https://cdn.sofif...|2015| 10|\n",
      "|   183277|https://sofifa.co...|        E. Hazard|         Eden Hazard|          LM, RM|     88|       90|   4.05E7|210000.0| 23|1991-01-07|      173|       74|         5.0|            Chelsea|English Premier L...|           1|           LM|                10|            NULL| 2012-07-01|                     2017|             7|         Belgium|        1325.0|             LM|                  10|         Right|        4|          4|                       4|  High/Medium|Normal (170-185)|      Yes|              NULL|#Speedster, #Drib...|Injury Free, Self...|  90|      82|     84|       91|       32|    64|                78|                 83|                        57|                     87|               79|             92|         82|               79|                82|                89|                   93|                   87|              92|                85|              90|              79|           59|           74|            63|              82|                  54|                     41|                   84|              86|                 86|               NULL|                         25|                       27|                      22|                11|                  12|                  6|                      8|                   8|             NULL|81+2|81+2|81+2|86+2|84+2|84+2|84+2|86+2|87+2|87+2|87+2|86+2|78+2|78+2|78+2|86+2|62+2|64+2|64+2|64+2|62+2|54+2|46+2|46+2|46+2|54+2|14+2|https://cdn.sofif...|https://cdn.sofif...|https://cdn.sofif...|https://cdn.sofif...|https://cdn.sofif...|2015| 11|\n",
      "|   121939|https://sofifa.co...|          P. Lahm|        Philipp Lahm|     CDM, RB, CM|     87|       87|   2.45E7|190000.0| 30|1983-11-11|      170|       66|        21.0|  FC Bayern München|German 1. Bundesliga|           1|          RCM|                21|            NULL| 2002-11-01|                     2018|            21|         Germany|          NULL|           NULL|                NULL|         Right|        3|          3|                       4|    High/High|   Normal (170-)|      Yes|              NULL|#Engine, #Tacklin...|Injury Free, Dive...|  76|      56|     84|       83|       87|    67|                84|                 47|                        64|                     88|               66|             80|         77|               59|                84|                85|                   77|                   76|              83|                92|              92|              57|           72|           88|            59|              65|                  58|                     93|                   69|              84|                 72|               NULL|                         87|                       88|                      95|                11|                  12|                  5|                     14|                   5|             NULL|67+2|67+2|67+2|80+2|72+2|72+2|72+2|80+2|79+2|79+2|79+2|83+2|84+2|84+2|84+2|83+2|88-1|85+2|85+2|85+2|88-1|85+2|81+2|81+2|81+2|85+2|15+2|https://cdn.sofif...|https://cdn.sofif...|https://cdn.sofif...|                NULL|https://cdn.sofif...|2015| 12|\n",
      "|   155862|https://sofifa.co...|     Sergio Ramos| Sergio Ramos García|              CB|     87|       87|   3.15E7|220000.0| 28|1986-03-30|      183|       75|       243.0|     Real Madrid CF|Spain Primera Div...|           1|          LCB|                 4|            NULL| 2005-08-01|                     2017|            45|           Spain|        1362.0|            LCB|                  15|         Right|        3|          3|                       4|  High/Medium|Normal (170-185)|      Yes|              NULL|#Tackling, #Tacti...|Leadership, Power...|  79|      61|     71|       66|       87|    82|                74|                 59|                        86|                     76|               55|             52|         73|               64|                70|                83|                   79|                   79|              84|                82|              60|              71|           91|           82|            80|              55|                  83|                     87|                   52|              63|                 68|               NULL|                         85|                       89|                      90|                11|                   8|                  9|                      7|                  11|             NULL|68+2|68+2|68+2|70+2|67+2|67+2|67+2|70+2|68+2|68+2|68+2|71+2|72+2|72+2|72+2|71+2|81+2|80+2|80+2|80+2|81+2|84+2|85+2|85+2|85+2|84+2|14+2|https://cdn.sofif...|https://cdn.sofif...|https://cdn.sofif...|https://cdn.sofif...|https://cdn.sofif...|2015| 13|\n",
      "|   164240|https://sofifa.co...|     Thiago Silva|Thiago Emiliano d...|              CB|     87|       87|    2.9E7|190000.0| 29|1984-09-22|      183|       79|        73.0|Paris Saint-Germain|      French Ligue 1|           1|          LCB|                 2|            NULL| 2012-07-01|                     2018|            54|          Brazil|        1370.0|            LCB|                   3|         Right|        3|          3|                       4|  Medium/High|Normal (170-185)|      Yes|              NULL|#Tackling, #Tacti...|Leadership, Long ...|  78|      57|     72|       72|       90|    80|                60|                 38|                        81|                     75|               63|             68|         61|               73|                81|                78|                   75|                   80|              75|                83|              68|              78|           90|           80|            81|              71|                  76|                     91|                   59|              74|                 71|               NULL|                         90|                       91|                      89|                 9|                  12|                  5|                      9|                  10|             NULL|67+2|67+2|67+2|70+2|69+2|69+2|69+2|70+2|71+2|71+2|71+2|73+2|77+2|77+2|77+2|73+2|81+2|82+2|82+2|82+2|81+2|83+2|85+2|85+2|85+2|83+2|14+2|https://cdn.sofif...|https://cdn.sofif...|https://cdn.sofif...|https://cdn.sofif...|https://cdn.sofif...|2015| 14|\n",
      "|   168542|https://sofifa.co...|      David Silva|David Josué Jimén...|         LM, CAM|     87|       87|   3.65E7|220000.0| 28|1986-01-08|      170|       67|        10.0|    Manchester City|English Premier L...|           1|          CAM|                21|            NULL| 2010-07-14|                     2019|            45|           Spain|        1362.0|            CAM|                  21|          Left|        2|          4|                       4|     High/Low|Normal (170-185)|      Yes|              NULL|#Dribbler, #Playm...|Avoids Using Weak...|  76|      77|     86|       89|       33|    57|                82|                 76|                        58|                     89|               80|             87|         83|               77|                85|                91|                   83|                   71|              93|                85|              88|              76|           66|           68|            53|              80|                  51|                     41|                   84|              90|                 77|               NULL|                         23|                       30|                      29|                13|                   9|                 13|                      9|                  13|             NULL|78+2|78+2|78+2|85+2|82+2|82+2|82+2|85+2|86+1|86+1|86+1|85+2|79+2|79+2|79+2|85+2|63+2|64+2|64+2|64+2|63+2|54+2|47+2|47+2|47+2|54+2|16+2|https://cdn.sofif...|https://cdn.sofif...|https://cdn.sofif...|https://cdn.sofif...|https://cdn.sofif...|2015| 15|\n",
      "|   173731|https://sofifa.co...|          G. Bale|   Gareth Frank Bale|          RM, RW|     87|       91|    3.9E7|200000.0| 24|1989-07-16|      183|       74|       243.0|     Real Madrid CF|Spain Primera Div...|           1|           RW|                11|            NULL| 2013-09-02|                     2019|            50|           Wales|        1367.0|             RM|                  11|          Left|        3|          4|                       4|  High/Medium|  Lean (170-185)|      Yes|              NULL|#Speedster, #Dist...|Avoids Using Weak...|  94|      83|     83|       84|       63|    81|                84|                 81|                        74|                     84|               76|             87|         87|               85|                80|                85|                   93|                   95|              77|                84|              65|              87|           67|           90|            79|              88|                  77|                     59|                   83|              79|                 76|               NULL|                         60|                       65|                      62|                15|                  15|                 11|                      5|                   6|             NULL|83+2|83+2|83+2|85+2|85+2|85+2|85+2|85+2|84+2|84+2|84+2|85+2|81+2|81+2|81+2|85+2|76+2|75+2|75+2|75+2|76+2|74+2|70+2|70+2|70+2|74+2|15+2|https://cdn.sofif...|https://cdn.sofif...|https://cdn.sofif...|https://cdn.sofif...|https://cdn.sofif...|2015| 16|\n",
      "|   177003|https://sofifa.co...|        L. Modrić|         Luka Modrić|         CM, CDM|     87|       87|   3.65E7|220000.0| 28|1985-09-09|      174|       65|       243.0|     Real Madrid CF|Spain Primera Div...|           1|          RCM|                19|            NULL| 2012-08-01|                     2018|            10|         Croatia|          NULL|           NULL|                NULL|         Right|        4|          4|                       4|  High/Medium|  Lean (170-185)|      Yes|              NULL|#Dribbler, #Playm...|Long Passer (AI),...|  76|      74|     85|       89|       71|    70|                78|                 71|                        55|                     88|               75|             86|         82|               79|                86|                92|                   78|                   74|              93|                88|              94|              72|           67|           86|            66|              82|                  62|                     73|                   79|              89|                 80|               NULL|                         69|                       75|                      73|                13|                   9|                  7|                     14|                   9|             NULL|76+2|76+2|76+2|84+2|80+2|80+2|80+2|84+2|85+2|85+2|85+2|85+2|85+2|85+2|85+2|85+2|81+2|80+2|80+2|80+2|81+2|76+2|72+2|72+2|72+2|76+2|16+2|https://cdn.sofif...|https://cdn.sofif...|https://cdn.sofif...|                NULL|https://cdn.sofif...|2015| 17|\n",
      "|   188545|https://sofifa.co...|   R. Lewandowski|  Robert Lewandowski|          ST, CF|     87|       89|    4.4E7|210000.0| 25|1988-08-21|      184|       78|        21.0|  FC Bayern München|German 1. Bundesliga|           1|           LS|                 9|            NULL| 2014-07-01|                     2019|            37|          Poland|        1353.0|             LS|                   9|         Right|        4|          4|                       4|  High/Medium|Normal (170-185)|      Yes|              NULL|  #Clinical Finisher|Injury Free, Chip...|  80|      84|     74|       85|       39|    78|                62|                 87|                        83|                     83|               82|             84|         77|               68|                65|                87|                   79|                   81|              80|                88|              81|              84|           83|           75|            79|              80|                  80|                     39|                   87|              78|                 77|               NULL|                         25|                       42|                      25|                15|                   6|                 12|                      8|                  10|             NULL|85+2|85+2|85+2|80+2|84+2|84+2|84+2|80+2|84+2|84+2|84+2|79+2|75+2|75+2|75+2|79+2|61+2|65+2|65+2|65+2|61+2|58+2|56+2|56+2|56+2|58+2|15+2|https://cdn.sofif...|https://cdn.sofif...|https://cdn.sofif...|https://cdn.sofif...|https://cdn.sofif...|2015| 18|\n",
      "|    10535|https://sofifa.co...|             Xavi|Xavier Hernández ...|              CM|     86|       86|   1.55E7|160000.0| 34|1980-01-25|      170|       68|       241.0|       FC Barcelona|Spain Primera Div...|           1|          SUB|                 6|            NULL| 1998-07-01|                     2021|            45|           Spain|          NULL|           NULL|                NULL|         Right|        3|          3|                       4|Medium/Medium|   Normal (170-)|      Yes|              NULL|#Playmaker, #FK S...|Playmaker (AI), O...|  66|      72|     91|       85|       60|    58|                85|                 74|                        51|                     95|               66|             80|         85|               87|                90|                93|                   67|                   65|              79|                90|              90|              67|           53|           60|            60|              72|                  53|                     71|                   83|              94|                 75|               NULL|                         55|                       61|                      59|                 5|                  15|                 12|                      5|                   9|             NULL|74+2|74+2|74+2|83+2|79+2|79+2|79+2|83+2|  86|  86|  86|84+2|84+2|84+2|84+2|84+2|75+2|77+2|77+2|77+2|75+2|69+2|63+2|63+2|63+2|69+2|13+2|https://cdn.sofif...|https://cdn.sofif...|https://cdn.sofif...|                NULL|https://cdn.sofif...|2015| 19|\n",
      "+---------+--------------------+-----------------+--------------------+----------------+-------+---------+---------+--------+---+----------+---------+---------+------------+-------------------+--------------------+------------+-------------+------------------+----------------+-----------+-------------------------+--------------+----------------+--------------+---------------+--------------------+--------------+---------+-----------+------------------------+-------------+----------------+---------+------------------+--------------------+--------------------+----+--------+-------+---------+---------+------+------------------+-------------------+--------------------------+-----------------------+-----------------+---------------+-----------+-----------------+------------------+------------------+---------------------+---------------------+----------------+------------------+----------------+----------------+-------------+-------------+--------------+----------------+--------------------+-----------------------+---------------------+----------------+-------------------+-------------------+---------------------------+-------------------------+------------------------+------------------+--------------------+-------------------+-----------------------+--------------------+-----------------+----+----+----+----+----+----+----+----+----+----+----+----+----+----+----+----+----+----+----+----+----+----+----+----+----+----+----+--------------------+--------------------+--------------------+--------------------+--------------------+----+---+\n",
      "only showing top 20 rows\n",
      "\n"
     ]
    }
   ],
   "source": [
    "fifa.show()"
   ]
  },
  {
   "cell_type": "code",
   "execution_count": null,
   "metadata": {},
   "outputs": [],
   "source": []
  }
 ],
 "metadata": {
  "kernelspec": {
   "display_name": "ipynb_env",
   "language": "python",
   "name": "ipynb_env"
  },
  "language_info": {
   "codemirror_mode": {
    "name": "ipython",
    "version": 3
   },
   "file_extension": ".py",
   "mimetype": "text/x-python",
   "name": "python",
   "nbconvert_exporter": "python",
   "pygments_lexer": "ipython3",
   "version": "3.11.4"
  },
  "orig_nbformat": 4
 },
 "nbformat": 4,
 "nbformat_minor": 2
}
